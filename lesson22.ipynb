{
 "cells": [
  {
   "cell_type": "code",
   "execution_count": 1,
   "id": "80bf78ad-ce42-497b-b581-5046376a0059",
   "metadata": {},
   "outputs": [
    {
     "name": "stderr",
     "output_type": "stream",
     "text": [
      "[nltk_data] Downloading package stopwords to\n",
      "[nltk_data]     C:\\Users\\Eug\\AppData\\Roaming\\nltk_data...\n",
      "[nltk_data]   Package stopwords is already up-to-date!\n",
      "[nltk_data] Downloading package wordnet to\n",
      "[nltk_data]     C:\\Users\\Eug\\AppData\\Roaming\\nltk_data...\n",
      "[nltk_data]   Package wordnet is already up-to-date!\n",
      "[nltk_data] Downloading package punkt to\n",
      "[nltk_data]     C:\\Users\\Eug\\AppData\\Roaming\\nltk_data...\n",
      "[nltk_data]   Package punkt is already up-to-date!\n"
     ]
    }
   ],
   "source": [
    "import pandas as pd\n",
    "import numpy as np\n",
    "\n",
    "import matplotlib as plt\n",
    "import seaborn as sns\n",
    "\n",
    "import re\n",
    "import nltk\n",
    "from nltk.tokenize import word_tokenize, sent_tokenize\n",
    "from nltk.corpus import stopwords\n",
    "from nltk.stem.wordnet import WordNetLemmatizer\n",
    "\n",
    "nltk.download(\"stopwords\")\n",
    "nltk.download(\"wordnet\")\n",
    "nltk.download('punkt')\n",
    "stop_words = set(stopwords.words(\"english\"))\n",
    "\n",
    "import torch\n",
    "from torch import nn\n",
    "from torch.optim import Adam\n",
    "from torch.utils.data import DataLoader\n",
    "from torch.utils.data import TensorDataset\n",
    "\n",
    "from sklearn.metrics import classification_report, confusion_matrix\n",
    "\n",
    "import os\n",
    "from tqdm import tqdm\n",
    "\n",
    "tqdm.pandas()\n",
    "\n",
    "from collections import Counter"
   ]
  },
  {
   "cell_type": "markdown",
   "id": "aa576038-979f-4639-bee8-47f0c3150fb7",
   "metadata": {},
   "source": [
    "# EDA\n",
    "\n",
    "1. Превратить метку в число\n",
    "2. Просмотр распределения данных (имбаланс или нет)\n",
    "3. Просмотр распрделения длины токена\n",
    "4. предварительный просмотр некоторых положительных и отрицательных отзывов"
   ]
  },
  {
   "cell_type": "code",
   "execution_count": 2,
   "id": "60166b6e-26b3-4080-b288-29d4df5cf51c",
   "metadata": {},
   "outputs": [
    {
     "data": {
      "text/html": [
       "<div>\n",
       "<style scoped>\n",
       "    .dataframe tbody tr th:only-of-type {\n",
       "        vertical-align: middle;\n",
       "    }\n",
       "\n",
       "    .dataframe tbody tr th {\n",
       "        vertical-align: top;\n",
       "    }\n",
       "\n",
       "    .dataframe thead th {\n",
       "        text-align: right;\n",
       "    }\n",
       "</style>\n",
       "<table border=\"1\" class=\"dataframe\">\n",
       "  <thead>\n",
       "    <tr style=\"text-align: right;\">\n",
       "      <th></th>\n",
       "      <th>review</th>\n",
       "      <th>sentiment</th>\n",
       "    </tr>\n",
       "  </thead>\n",
       "  <tbody>\n",
       "    <tr>\n",
       "      <th>0</th>\n",
       "      <td>One of the other reviewers has mentioned that ...</td>\n",
       "      <td>positive</td>\n",
       "    </tr>\n",
       "    <tr>\n",
       "      <th>1</th>\n",
       "      <td>A wonderful little production. &lt;br /&gt;&lt;br /&gt;The...</td>\n",
       "      <td>positive</td>\n",
       "    </tr>\n",
       "    <tr>\n",
       "      <th>2</th>\n",
       "      <td>I thought this was a wonderful way to spend ti...</td>\n",
       "      <td>positive</td>\n",
       "    </tr>\n",
       "    <tr>\n",
       "      <th>3</th>\n",
       "      <td>Basically there's a family where a little boy ...</td>\n",
       "      <td>negative</td>\n",
       "    </tr>\n",
       "    <tr>\n",
       "      <th>4</th>\n",
       "      <td>Petter Mattei's \"Love in the Time of Money\" is...</td>\n",
       "      <td>positive</td>\n",
       "    </tr>\n",
       "  </tbody>\n",
       "</table>\n",
       "</div>"
      ],
      "text/plain": [
       "                                              review sentiment\n",
       "0  One of the other reviewers has mentioned that ...  positive\n",
       "1  A wonderful little production. <br /><br />The...  positive\n",
       "2  I thought this was a wonderful way to spend ti...  positive\n",
       "3  Basically there's a family where a little boy ...  negative\n",
       "4  Petter Mattei's \"Love in the Time of Money\" is...  positive"
      ]
     },
     "execution_count": 2,
     "metadata": {},
     "output_type": "execute_result"
    }
   ],
   "source": [
    "data = pd.read_csv(\"data/IMDB Dataset.csv\")\n",
    "data.head()"
   ]
  },
  {
   "cell_type": "code",
   "execution_count": 3,
   "id": "1ce43aee-70d2-469e-9579-192fc3b96928",
   "metadata": {},
   "outputs": [
    {
     "name": "stderr",
     "output_type": "stream",
     "text": [
      "100%|███████████████████████████████████████████████████████████████████████████████████████████████████████████████████████████████████████████████████| 50000/50000 [00:00<00:00, 862184.62it/s]\n"
     ]
    },
    {
     "data": {
      "text/html": [
       "<div>\n",
       "<style scoped>\n",
       "    .dataframe tbody tr th:only-of-type {\n",
       "        vertical-align: middle;\n",
       "    }\n",
       "\n",
       "    .dataframe tbody tr th {\n",
       "        vertical-align: top;\n",
       "    }\n",
       "\n",
       "    .dataframe thead th {\n",
       "        text-align: right;\n",
       "    }\n",
       "</style>\n",
       "<table border=\"1\" class=\"dataframe\">\n",
       "  <thead>\n",
       "    <tr style=\"text-align: right;\">\n",
       "      <th></th>\n",
       "      <th>review</th>\n",
       "      <th>sentiment</th>\n",
       "      <th>label</th>\n",
       "    </tr>\n",
       "  </thead>\n",
       "  <tbody>\n",
       "    <tr>\n",
       "      <th>0</th>\n",
       "      <td>One of the other reviewers has mentioned that ...</td>\n",
       "      <td>positive</td>\n",
       "      <td>1</td>\n",
       "    </tr>\n",
       "    <tr>\n",
       "      <th>1</th>\n",
       "      <td>A wonderful little production. &lt;br /&gt;&lt;br /&gt;The...</td>\n",
       "      <td>positive</td>\n",
       "      <td>1</td>\n",
       "    </tr>\n",
       "    <tr>\n",
       "      <th>2</th>\n",
       "      <td>I thought this was a wonderful way to spend ti...</td>\n",
       "      <td>positive</td>\n",
       "      <td>1</td>\n",
       "    </tr>\n",
       "    <tr>\n",
       "      <th>3</th>\n",
       "      <td>Basically there's a family where a little boy ...</td>\n",
       "      <td>negative</td>\n",
       "      <td>0</td>\n",
       "    </tr>\n",
       "    <tr>\n",
       "      <th>4</th>\n",
       "      <td>Petter Mattei's \"Love in the Time of Money\" is...</td>\n",
       "      <td>positive</td>\n",
       "      <td>1</td>\n",
       "    </tr>\n",
       "  </tbody>\n",
       "</table>\n",
       "</div>"
      ],
      "text/plain": [
       "                                              review sentiment  label\n",
       "0  One of the other reviewers has mentioned that ...  positive      1\n",
       "1  A wonderful little production. <br /><br />The...  positive      1\n",
       "2  I thought this was a wonderful way to spend ti...  positive      1\n",
       "3  Basically there's a family where a little boy ...  negative      0\n",
       "4  Petter Mattei's \"Love in the Time of Money\" is...  positive      1"
      ]
     },
     "execution_count": 3,
     "metadata": {},
     "output_type": "execute_result"
    }
   ],
   "source": [
    "def transform_label(label):\n",
    "    return 1 if label == \"positive\" else 0\n",
    "\n",
    "data[\"label\"] = data[\"sentiment\"].progress_apply(transform_label)\n",
    "data.head()"
   ]
  },
  {
   "cell_type": "code",
   "execution_count": 4,
   "id": "8ec69cdc-0b3e-4aee-b832-015fb763afb0",
   "metadata": {},
   "outputs": [
    {
     "data": {
      "text/plain": [
       "sentiment\n",
       "positive    25000\n",
       "negative    25000\n",
       "Name: count, dtype: int64"
      ]
     },
     "execution_count": 4,
     "metadata": {},
     "output_type": "execute_result"
    }
   ],
   "source": [
    "data.sentiment.value_counts()"
   ]
  },
  {
   "cell_type": "code",
   "execution_count": 5,
   "id": "cde29e46-87b3-450e-afb6-d97bfb32acfc",
   "metadata": {},
   "outputs": [
    {
     "name": "stderr",
     "output_type": "stream",
     "text": [
      "100%|████████████████████████████████████████████████████████████████████████████████████████████████████████████████████████████████████████████████████| 50000/50000 [00:00<00:00, 83613.37it/s]\n"
     ]
    }
   ],
   "source": [
    "data[\"token_length\"] = data.review.progress_apply(lambda x: len(x.split()))"
   ]
  },
  {
   "cell_type": "code",
   "execution_count": 6,
   "id": "f53c0d90-36a2-4ffb-b788-94cfbbff675b",
   "metadata": {},
   "outputs": [
    {
     "data": {
      "text/plain": [
       "count    25000.000000\n",
       "mean       232.849320\n",
       "std        177.497046\n",
       "min         10.000000\n",
       "25%        125.000000\n",
       "50%        172.000000\n",
       "75%        284.000000\n",
       "max       2470.000000\n",
       "Name: token_length, dtype: float64"
      ]
     },
     "execution_count": 6,
     "metadata": {},
     "output_type": "execute_result"
    }
   ],
   "source": [
    "data_pos = data[data[\"label\"] == 1]\n",
    "data_pos[\"token_length\"].describe()"
   ]
  },
  {
   "cell_type": "code",
   "execution_count": 7,
   "id": "77800526-ab62-4c49-8087-eff09b03d603",
   "metadata": {},
   "outputs": [
    {
     "data": {
      "text/plain": [
       "count    25000.000000\n",
       "mean       229.464560\n",
       "std        164.947795\n",
       "min          4.000000\n",
       "25%        128.000000\n",
       "50%        174.000000\n",
       "75%        278.000000\n",
       "max       1522.000000\n",
       "Name: token_length, dtype: float64"
      ]
     },
     "execution_count": 7,
     "metadata": {},
     "output_type": "execute_result"
    }
   ],
   "source": [
    "data_neg = data[data[\"label\"] == 0]\n",
    "data_neg[\"token_length\"].describe()"
   ]
  },
  {
   "cell_type": "code",
   "execution_count": 8,
   "id": "5a6d11b0-5cd6-445e-b53a-17647fd77641",
   "metadata": {},
   "outputs": [
    {
     "data": {
      "image/png": "[encoded data removed]",
      "text/plain": [
       "<Figure size 500x500 with 1 Axes>"
      ]
     },
     "metadata": {},
     "output_type": "display_data"
    }
   ],
   "source": [
    "plt.figure.Figure(figsize=(5, 8))\n",
    "sns.displot(data_pos, x=\"token_length\")\n",
    "plt.pyplot.title(\"Positive Token Length Distribution\")\n",
    "plt.pyplot.show()"
   ]
  },
  {
   "cell_type": "code",
   "execution_count": 9,
   "id": "e34ee5b3-2258-48e0-8831-4eacab875a8c",
   "metadata": {},
   "outputs": [
    {
     "data": {
      "image/png": "[encoded data removed]",
      "text/plain": [
       "<Figure size 500x500 with 1 Axes>"
      ]
     },
     "metadata": {},
     "output_type": "display_data"
    }
   ],
   "source": [
    "plt.figure.Figure(figsize=(5, 8))\n",
    "sns.displot(data_neg, x=\"token_length\")\n",
    "plt.pyplot.title(\"Positive Token Length Distribution\")\n",
    "plt.pyplot.show()"
   ]
  },
  {
   "cell_type": "code",
   "execution_count": 10,
   "id": "1cc8eb7c-101e-4642-851b-646fbb1ac146",
   "metadata": {},
   "outputs": [
    {
     "name": "stdout",
     "output_type": "stream",
     "text": [
      "Positive\n",
      "Brilliant and moving performances by Tom Courtenay and Peter Finch.\n",
      "\n",
      "Negative\n",
      "Primary plot!Primary direction!Poor interpretation.\n"
     ]
    }
   ],
   "source": [
    "print(\"Positive\")\n",
    "print(data_pos[data_pos[\"token_length\"] == data_pos[\"token_length\"].min()][\"review\"].item())\n",
    "print()\n",
    "print(\"Negative\")\n",
    "print(data_neg[data_neg[\"token_length\"] == data_neg[\"token_length\"].min()][\"review\"].item())"
   ]
  },
  {
   "cell_type": "markdown",
   "id": "7b5ea954-cf1a-400f-bbd0-629f7b643c08",
   "metadata": {},
   "source": [
    "# Очистка и предобработка\n",
    "\n",
    "1. Создадим пайплай очистки текста\n",
    "2. Создадим пайплайн предварительной обработки текста\n",
    "3. Сохраним предобработанные данные в виде нового CSV-файле."
   ]
  },
  {
   "cell_type": "code",
   "execution_count": 11,
   "id": "af38ca75-a5fc-4b6e-9bc5-9745c0c5cbcf",
   "metadata": {},
   "outputs": [],
   "source": [
    "def rm_link(text):\n",
    "    return re.sub(r'https?://\\S+|www\\.\\S+', '', text)\n",
    "\n",
    "def rm_punct2(text):\n",
    "    return re.sub (r'[\\\"\\#\\$\\%\\&\\'\\(\\)\\*\\+\\/\\;\\;\\<\\=\\>\\@\\[\\\\\\]\\^\\_\\`\\{\\ /\\}\\~]', ' ', text)\n",
    "\n",
    "def rm_html(text):\n",
    "    return re.sub (r'<[^>]+>', '', text)\n",
    "\n",
    "def space_bt_punct(text):\n",
    "    pattern = r' ([.,!?-])'\n",
    "    s = re.sub(pattern, r' \\1', text)\n",
    "    s = re.sub (r'\\s{2,}', ' ', s)\n",
    "    return s\n",
    "\n",
    "def rm_number (text):\n",
    "    return re.sub (r'\\d+', '', text)\n",
    "\n",
    "def rm_whitespaces (text):\n",
    "    return re.sub (r' +', ' ', text)\n",
    "\n",
    "def rm_nonascii(text):\n",
    "    return re.sub (r'[^\\x00-\\x7f]', r'', text)\n",
    "\n",
    "def rm_emoji(text):\n",
    "    emojis = re.compile(\n",
    "        '['\n",
    "        u'\\U0001F600-\\U0001F64F'\n",
    "        u'\\U0001F300-\\U0001F5FF'\n",
    "        u'\\U0001F680-\\U0001F6FF'\n",
    "        u'\\U0001F1E0-\\U0001F1FF'\n",
    "        u'\\U00002702-\\U000027B0'\n",
    "        u'\\U000024C2-\\U0001F251'\n",
    "        ']+',\n",
    "        flags=re.UNICODE\n",
    "    )\n",
    "    return emojis.sub(r'', text)\n",
    "\n",
    "def spell_correction(text):\n",
    "    return re.sub (r' (.)\\1+', r'\\1\\1', text)\n",
    "\n",
    "\n",
    "def clean_pipeline(text):\n",
    "    no_link = rm_link(text)\n",
    "    no_html = rm_html(no_link)\n",
    "    space_punct = space_bt_punct(no_html)\n",
    "    no_punct = rm_punct2(space_punct)\n",
    "    no_number = rm_number(no_punct)\n",
    "    no_whitespaces = rm_whitespaces(no_number)\n",
    "    no_nonasci = rm_nonascii(no_whitespaces)\n",
    "    no_emoji  = rm_emoji(no_nonasci)\n",
    "    spell_corrected = spell_correction(no_emoji)\n",
    "    return spell_corrected"
   ]
  },
  {
   "cell_type": "code",
   "execution_count": 12,
   "id": "86d051be-3a18-4a63-8328-4b3f340367dc",
   "metadata": {},
   "outputs": [],
   "source": [
    "def tokenize(text):\n",
    "    return word_tokenize(text)\n",
    "\n",
    "def rm_stopwords(text):\n",
    "    return [i for i in text if i not in stop_words]\n",
    "\n",
    "def lemmatize(text):\n",
    "    lemmatizer = WordNetLemmatizer()\n",
    "    lemmas = [lemmatizer.lemmatize(t) for t in text]\n",
    "    # make sure lemmas does not contains stopwords\n",
    "    return rm_stopwords(lemmas)\n",
    "\n",
    "def preprocess_pipeline(text):\n",
    "    tokens = tokenize(text)\n",
    "    no_stopwords = rm_stopwords(tokens)\n",
    "    lemmas = lemmatize(no_stopwords)\n",
    "    return ' '.join(lemmas)"
   ]
  },
  {
   "cell_type": "code",
   "execution_count": 13,
   "id": "b183b454-ea30-4eeb-ba40-2b9bba330777",
   "metadata": {},
   "outputs": [
    {
     "name": "stderr",
     "output_type": "stream",
     "text": [
      "100%|█████████████████████████████████████████████████████████████████████████████████████████████████████████████████████████████████████████████████████| 50000/50000 [00:11<00:00, 4202.93it/s]\n",
      "100%|██████████████████████████████████████████████████████████████████████████████████████████████████████████████████████████████████████████████████████| 50000/50000 [01:10<00:00, 705.47it/s]\n"
     ]
    },
    {
     "data": {
      "text/html": [
       "<div>\n",
       "<style scoped>\n",
       "    .dataframe tbody tr th:only-of-type {\n",
       "        vertical-align: middle;\n",
       "    }\n",
       "\n",
       "    .dataframe tbody tr th {\n",
       "        vertical-align: top;\n",
       "    }\n",
       "\n",
       "    .dataframe thead th {\n",
       "        text-align: right;\n",
       "    }\n",
       "</style>\n",
       "<table border=\"1\" class=\"dataframe\">\n",
       "  <thead>\n",
       "    <tr style=\"text-align: right;\">\n",
       "      <th></th>\n",
       "      <th>review</th>\n",
       "      <th>sentiment</th>\n",
       "      <th>label</th>\n",
       "      <th>token_length</th>\n",
       "      <th>clean</th>\n",
       "      <th>processed</th>\n",
       "    </tr>\n",
       "  </thead>\n",
       "  <tbody>\n",
       "    <tr>\n",
       "      <th>0</th>\n",
       "      <td>One of the other reviewers has mentioned that ...</td>\n",
       "      <td>positive</td>\n",
       "      <td>1</td>\n",
       "      <td>307</td>\n",
       "      <td>One of the other reviewers has mentioned that ...</td>\n",
       "      <td>One reviewer mentioned watching Oz episode you...</td>\n",
       "    </tr>\n",
       "    <tr>\n",
       "      <th>1</th>\n",
       "      <td>A wonderful little production. &lt;br /&gt;&lt;br /&gt;The...</td>\n",
       "      <td>positive</td>\n",
       "      <td>1</td>\n",
       "      <td>162</td>\n",
       "      <td>A wonderful little production. The filming tec...</td>\n",
       "      <td>A wonderful little production . The filming te...</td>\n",
       "    </tr>\n",
       "    <tr>\n",
       "      <th>2</th>\n",
       "      <td>I thought this was a wonderful way to spend ti...</td>\n",
       "      <td>positive</td>\n",
       "      <td>1</td>\n",
       "      <td>166</td>\n",
       "      <td>I thought this was a wonderful way to spend ti...</td>\n",
       "      <td>I thought wonderful way spend time hot summer ...</td>\n",
       "    </tr>\n",
       "    <tr>\n",
       "      <th>3</th>\n",
       "      <td>Basically there's a family where a little boy ...</td>\n",
       "      <td>negative</td>\n",
       "      <td>0</td>\n",
       "      <td>138</td>\n",
       "      <td>Basically there s a family where a little boy ...</td>\n",
       "      <td>Basically family little boy Jake think zombie ...</td>\n",
       "    </tr>\n",
       "    <tr>\n",
       "      <th>4</th>\n",
       "      <td>Petter Mattei's \"Love in the Time of Money\" is...</td>\n",
       "      <td>positive</td>\n",
       "      <td>1</td>\n",
       "      <td>230</td>\n",
       "      <td>Petter Mattei s Love in the Time of Money is a...</td>\n",
       "      <td>Petter Mattei Love Time Money visually stunnin...</td>\n",
       "    </tr>\n",
       "  </tbody>\n",
       "</table>\n",
       "</div>"
      ],
      "text/plain": [
       "                                              review sentiment  label  \\\n",
       "0  One of the other reviewers has mentioned that ...  positive      1   \n",
       "1  A wonderful little production. <br /><br />The...  positive      1   \n",
       "2  I thought this was a wonderful way to spend ti...  positive      1   \n",
       "3  Basically there's a family where a little boy ...  negative      0   \n",
       "4  Petter Mattei's \"Love in the Time of Money\" is...  positive      1   \n",
       "\n",
       "   token_length                                              clean  \\\n",
       "0           307  One of the other reviewers has mentioned that ...   \n",
       "1           162  A wonderful little production. The filming tec...   \n",
       "2           166  I thought this was a wonderful way to spend ti...   \n",
       "3           138  Basically there s a family where a little boy ...   \n",
       "4           230  Petter Mattei s Love in the Time of Money is a...   \n",
       "\n",
       "                                           processed  \n",
       "0  One reviewer mentioned watching Oz episode you...  \n",
       "1  A wonderful little production . The filming te...  \n",
       "2  I thought wonderful way spend time hot summer ...  \n",
       "3  Basically family little boy Jake think zombie ...  \n",
       "4  Petter Mattei Love Time Money visually stunnin...  "
      ]
     },
     "execution_count": 13,
     "metadata": {},
     "output_type": "execute_result"
    }
   ],
   "source": [
    "data[\"clean\"] = data[\"review\"].progress_apply(clean_pipeline)\n",
    "data[\"processed\"] = data[\"clean\"].progress_apply(preprocess_pipeline)\n",
    "data.head()"
   ]
  },
  {
   "cell_type": "code",
   "execution_count": 14,
   "id": "2dde0f0c-b123-45ac-ad05-e992e13de3ac",
   "metadata": {},
   "outputs": [],
   "source": [
    "data[[\"processed\", \"label\"]].to_csv(\"./data/imbd_processed.csv\", index=False, header=True)"
   ]
  },
  {
   "cell_type": "markdown",
   "id": "52ba3cd8-dbc6-484f-a134-504a05072ff8",
   "metadata": {},
   "source": [
    "# Подготовка датасета\n",
    "\n",
    "К настоящему времени у нас уже есть обработанные даннеы. Прежде чем перейдем к этапу классификации, нам нужно преобразовать текст в векторыне представления (эмбеддинги). Для этого еам нужно создать словарь, который сопоставляет каждый токен с идентификаторами.\n",
    "\n",
    "1. создадим словарь\n",
    "2. закодируем отзывы\n",
    "3. дополним короткие обзоры и обрежем длинные\n",
    "4. разделим значения выборки на обучение / тест / валидацию\n",
    "5. подготовим загрузчик данных и пакеты"
   ]
  },
  {
   "cell_type": "code",
   "execution_count": 2,
   "id": "9f7f9a79-30f1-48d0-b522-b11e0d5fd029",
   "metadata": {},
   "outputs": [
    {
     "name": "stdout",
     "output_type": "stream",
     "text": [
      "One reviewer mentioned watching Oz episode youll hooked . They right , exactly happened me.The first thing struck Oz brutality unflinching scene violence , set right word GO . Trust , show faint hearted timid . This show pull punch regard drug , sex violence . Its hardcore , classic use word.It called OZ nickname given Oswald Maximum Security State Penitentary . It focus mainly Emerald City , experimental section prison cell glass front face inwards , privacy high agenda . Em City home many .. Aryans , Muslims , gangsta , Latinos , Christians , Italians , Irish .... scuffle , death stare , dodgy dealing shady agreement never far away.I would say main appeal show due fact go show dare . Forget pretty picture painted mainstream audience , forget charm , forget romance ... OZ mess around . The first episode I ever saw struck nasty surreal , I say I ready , I watched , I developed taste Oz , got accustomed high level graphic violence . Not violence , injustice crooked guard wholl sold nickel , inmate wholl kill order get away , well mannered , middle class inmate turned prison bitch due lack street skill prison experience Watching Oz , may become comfortable uncomfortable viewing .... thats get touch darker side .\n",
      "Label: 1\n",
      "\n",
      "\n",
      "A wonderful little production . The filming technique unassuming- old-time-BBC fashion give comforting , sometimes discomforting , sense realism entire piece . The actor extremely well chosen- Michael Sheen got polari voice pat ! You truly see seamless editing guided reference Williams diary entry , well worth watching terrificly written performed piece . A masterful production one great master comedy life . The realism really come home little thing : fantasy guard , rather use traditional dream technique remains solid disappears . It play knowledge sens , particularly scene concerning Orton Halliwell set particularly flat Halliwell mural decorating every surface terribly well done .\n",
      "Label: 1\n",
      "\n",
      "\n"
     ]
    }
   ],
   "source": [
    "data = pd.read_csv(\"./data/imbd_processed.csv\")\n",
    "\n",
    "for row in data[:2].iterrows():\n",
    "    print(row[1][\"processed\"])\n",
    "    print(f\"Label: {row[1]['label']}\")\n",
    "    print('\\n')"
   ]
  },
  {
   "cell_type": "code",
   "execution_count": 3,
   "id": "df2756a3-de64-4ee3-965a-f624dab61103",
   "metadata": {},
   "outputs": [
    {
     "data": {
      "text/plain": [
       "['One',\n",
       " 'reviewer',\n",
       " 'mentioned',\n",
       " 'watching',\n",
       " 'Oz',\n",
       " 'episode',\n",
       " 'youll',\n",
       " 'hooked',\n",
       " '.',\n",
       " 'They']"
      ]
     },
     "execution_count": 3,
     "metadata": {},
     "output_type": "execute_result"
    }
   ],
   "source": [
    "reviews = data.processed.values\n",
    "words = ' '.join(reviews)\n",
    "words = words.split()\n",
    "\n",
    "words[:10]"
   ]
  },
  {
   "cell_type": "code",
   "execution_count": 4,
   "id": "d380caa0-e271-4566-b697-a54eec389313",
   "metadata": {},
   "outputs": [],
   "source": [
    "counter = Counter(words)\n",
    "vocab = sorted(counter, key=counter.get, reverse=True)\n",
    "int2word = dict(enumerate(vocab, 1))\n",
    "int2word[0] = \"<PAD>\"\n",
    "word2int = {word: _id for _id, word in int2word.items()}"
   ]
  },
  {
   "cell_type": "code",
   "execution_count": 5,
   "id": "9d70e28f-630f-45ff-b6ee-eacee855cb28",
   "metadata": {},
   "outputs": [
    {
     "data": {
      "text/plain": [
       "'One reviewer mentioned watching Oz episode youll hooked . They right , exactly happened me.The first thing struck Oz brutality unflinching scene violence , set right word GO . Trust , show faint hearted timid . This show pull punch regard drug , sex violence . Its hardcore , classic use word.It called OZ nickname given Oswald Maximum Security State Penitentary . It focus mainly Emerald City , experimental section prison cell glass front face inwards , privacy high agenda . Em City home many .. Aryans , Muslims , gangsta , Latinos , Christians , Italians , Irish .... scuffle , death stare , dodgy dealing shady agreement never far away.I would say main appeal show due fact go show dare . Forget pretty picture painted mainstream audience , forget charm , forget romance ... OZ mess around . The first episode I ever saw struck nasty surreal , I say I ready , I watched , I developed taste Oz , got accustomed high level graphic violence . Not violence , injustice crooked guard wholl sold nickel , inmate wholl kill order get away , well mannered , middle class inmate turned prison bitch due lack street skill prison experience Watching Oz , may become comfortable uncomfortable viewing .... thats get touch darker side .'"
      ]
     },
     "execution_count": 5,
     "metadata": {},
     "output_type": "execute_result"
    }
   ],
   "source": [
    "reviews[0]"
   ]
  },
  {
   "cell_type": "code",
   "execution_count": 6,
   "id": "28a1a4c4-0acf-4b90-9a5c-e58c14b6d4c0",
   "metadata": {},
   "outputs": [
    {
     "name": "stderr",
     "output_type": "stream",
     "text": [
      "100%|████████████████████████████████████████████████████████████████████████████████████████████████████████████████████████████████████████████████████| 50000/50000 [00:01<00:00, 31506.96it/s]"
     ]
    },
    {
     "name": "stdout",
     "output_type": "stream",
     "text": [
      "[221, 1054, 936, 83, 3707]\n",
      "[61, 317, 58, 244, 2]\n",
      "[3, 99, 317, 32, 1003]\n",
      "[2685, 137, 58, 245, 3176]\n",
      "[84822, 10536, 1078, 1924, 7544]\n"
     ]
    },
    {
     "name": "stderr",
     "output_type": "stream",
     "text": [
      "\n"
     ]
    }
   ],
   "source": [
    "reviews_enc = [[word2int[word] for word in review.split()] for review in tqdm(reviews)]\n",
    "\n",
    "for i in range(5):\n",
    "    print(reviews_enc[i][:5])"
   ]
  },
  {
   "cell_type": "code",
   "execution_count": 7,
   "id": "abceec3b-4e03-4215-b644-866316f274fd",
   "metadata": {},
   "outputs": [
    {
     "data": {
      "text/plain": [
       "array([[  221,  1054,   936,    83,  3707,   184,   429,  2993,     2,\n",
       "          120],\n",
       "       [   61,   317,    58,   244,     2,     6,  1238,  1605, 84817,\n",
       "        84818],\n",
       "       [    3,    99,   317,    32,  1003,    12,   884,  1748,  2580,\n",
       "            1],\n",
       "       [ 2685,   137,    58,   245,  3176,    39,   660,  4316,   582,\n",
       "          880],\n",
       "       [84822, 10536,  1078,  1924,  7544,  2200,  1275,     5,    45,\n",
       "            2],\n",
       "       [ 2931,  3628,   360,     4,     1,    18, 45470,     1,  3008,\n",
       "         7545],\n",
       "       [    3,   198,    16,     9,    20, 12603,  1868, 62584,   131,\n",
       "         7947],\n",
       "       [   15,    31,   418,     1,  1318,  3926,   167,    35,  2920,\n",
       "            2],\n",
       "       [52127,   959,   352,     5,     3,   194,   820,    83,     5,\n",
       "            2],\n",
       "       [   76,     9,   122,  2507,  8863,  2024,     9,     4,     2,\n",
       "           76]])"
      ]
     },
     "execution_count": 7,
     "metadata": {},
     "output_type": "execute_result"
    }
   ],
   "source": [
    "def pad_features(reviews, pad_id, seq_length=128):\n",
    "    features = np.full((len(reviews), seq_length), pad_id, dtype=int)\n",
    "\n",
    "    for i, row in enumerate(reviews):\n",
    "        # if seq_lenght < len(row) then reviews will be trimmed\n",
    "        features[i, :len(row)] = np.array(row)[:seq_length]\n",
    "\n",
    "    return features\n",
    "\n",
    "\n",
    "seq_length = 256\n",
    "features = pad_features(reviews_enc, pad_id=word2int[\"<PAD>\"], seq_length=seq_length)\n",
    "\n",
    "assert len(features) == len(reviews_enc)\n",
    "assert len(features[0]) == seq_length\n",
    "\n",
    "features[:10, :10]"
   ]
  },
  {
   "cell_type": "code",
   "execution_count": 8,
   "id": "6f8bf551-a05c-496e-8765-2ca02b322499",
   "metadata": {},
   "outputs": [
    {
     "data": {
      "text/plain": [
       "array([1, 1, 1, ..., 0, 0, 0], dtype=int64)"
      ]
     },
     "execution_count": 8,
     "metadata": {},
     "output_type": "execute_result"
    }
   ],
   "source": [
    "labels = data.label.to_numpy()\n",
    "labels"
   ]
  },
  {
   "cell_type": "code",
   "execution_count": 9,
   "id": "8cfe9b2c-c9ab-4ce0-93f3-22ce25ee4292",
   "metadata": {},
   "outputs": [
    {
     "name": "stdout",
     "output_type": "stream",
     "text": [
      "Feature Shapes:\n",
      "===============\n",
      "Train set: (35000, 256)\n",
      "Validation set: (7500, 256)\n",
      "Test set: (7500, 256)\n"
     ]
    }
   ],
   "source": [
    "train_size = .7\n",
    "val_size = .5\n",
    "\n",
    "split_id = int(len(features) * train_size)\n",
    "train_x, remain_x = features[:split_id], features[split_id:]\n",
    "train_y, remain_y = labels[:split_id], labels[split_id:]\n",
    "\n",
    "split_val_id = int(len(remain_x) * val_size)\n",
    "val_x, test_x = remain_x[:split_val_id], remain_x[split_val_id:]\n",
    "val_y, test_y = remain_y[:split_val_id], remain_y[split_val_id:]\n",
    "\n",
    "print(\"Feature Shapes:\")\n",
    "print('=' * 15)\n",
    "print(f\"Train set: {train_x.shape}\")\n",
    "print(f\"Validation set: {val_x.shape}\")\n",
    "print(f\"Test set: {test_x.shape}\")"
   ]
  },
  {
   "cell_type": "code",
   "execution_count": 10,
   "id": "f74e9456-e030-4d84-a8cd-cb03559aed11",
   "metadata": {},
   "outputs": [
    {
     "name": "stdout",
     "output_type": "stream",
     "text": [
      "17510 17490\n",
      "3753 3747\n",
      "3737 3763\n"
     ]
    }
   ],
   "source": [
    "print(len(train_y[train_y == 0]), len(train_y[train_y == 1]))\n",
    "print(len(val_y[val_y == 0]), len(val_y[val_y == 1]))\n",
    "print(len(test_y[test_y == 0]), len(test_y[test_y == 1]))"
   ]
  },
  {
   "cell_type": "code",
   "execution_count": 11,
   "id": "e8272ee5-8659-44a8-aeef-fac80780ccb5",
   "metadata": {},
   "outputs": [],
   "source": [
    "batch_size = 128\n",
    "\n",
    "trainset = TensorDataset(torch.from_numpy(train_x), torch.from_numpy(train_y))\n",
    "validset = TensorDataset(torch.from_numpy(val_x), torch.from_numpy(val_y))\n",
    "testset = TensorDataset(torch.from_numpy(test_x), torch.from_numpy(test_y))\n",
    "\n",
    "trainloader = DataLoader(trainset, shuffle=True, batch_size=batch_size)\n",
    "validloader = DataLoader(validset, shuffle=True, batch_size=batch_size)\n",
    "testloader = DataLoader(testset, shuffle=True, batch_size=batch_size)"
   ]
  },
  {
   "cell_type": "code",
   "execution_count": 12,
   "id": "0734b61f-4d20-499c-9ae7-bcb48a165d06",
   "metadata": {},
   "outputs": [
    {
     "name": "stdout",
     "output_type": "stream",
     "text": [
      "Sample batch size:  torch.Size([128, 256])\n",
      "Sample batch input: \n",
      " tensor([[    3,   126,     4,  ...,     0,     0,     0],\n",
      "        [  143,   563,    11,  ...,     0,     0,     0],\n",
      "        [  243,    53,   445,  ...,   518,  1146,    35],\n",
      "        ...,\n",
      "        [    3,   472,  3436,  ...,     0,     0,     0],\n",
      "        [   15, 44213,   337,  ...,     0,     0,     0],\n",
      "        [   15,     4,     7,  ...,     0,     0,     0]], dtype=torch.int32)\n",
      "\n",
      "Sample label size:  torch.Size([128])\n",
      "Sample label input: \n",
      " tensor([0, 0, 0, 0, 1, 1, 1, 1, 1, 0, 1, 1, 1, 0, 1, 1, 0, 0, 0, 0, 1, 0, 1, 0,\n",
      "        1, 1, 0, 0, 1, 0, 1, 1, 1, 1, 0, 1, 1, 0, 0, 0, 1, 1, 1, 0, 1, 1, 0, 1,\n",
      "        1, 1, 0, 0, 1, 0, 1, 1, 0, 0, 1, 1, 1, 0, 0, 0, 1, 1, 0, 1, 1, 1, 0, 1,\n",
      "        0, 1, 1, 1, 1, 1, 0, 0, 1, 0, 0, 0, 0, 1, 0, 1, 1, 1, 1, 0, 1, 0, 1, 1,\n",
      "        1, 1, 0, 1, 1, 1, 0, 1, 0, 1, 0, 1, 0, 0, 0, 1, 0, 1, 1, 0, 1, 1, 0, 1,\n",
      "        0, 1, 0, 1, 1, 1, 1, 1])\n"
     ]
    }
   ],
   "source": [
    "dataiter = iter(trainloader)\n",
    "x, y = next(dataiter)\n",
    "\n",
    "print(\"Sample batch size: \", x.size())\n",
    "print(\"Sample batch input: \\n\", x)\n",
    "print()\n",
    "print(\"Sample label size: \", y.size())\n",
    "print(\"Sample label input: \\n\", y)"
   ]
  },
  {
   "cell_type": "markdown",
   "id": "f6aea6fb-3911-46d1-abf8-e963a87d97a0",
   "metadata": {},
   "source": [
    "# Моделирование\n",
    "\n",
    "что будем делать:\n",
    "1. Создадим архитектуру нейронной сети\n",
    "2. Определим гипер параметры модели\n",
    "3. Настроим конфигурации обучения\n",
    "4. Напишем цикл обучения-проверки\n",
    "5. Нарисуем график изменения Loss\n",
    "6. Вывод на тестовом наборе\n",
    "7. Метрики оценки"
   ]
  },
  {
   "cell_type": "code",
   "execution_count": 77,
   "id": "3272451f-c88b-4f98-8c20-1c2df3cb5885",
   "metadata": {},
   "outputs": [],
   "source": [
    "class SentimentModel(nn.Module):\n",
    "    def __init__(self, vocab_size, output_size, hidden_size=128, embedding_size=400, n_layers=2, dropout=0.2):\n",
    "\n",
    "        super(SentimentModel, self).__init__()\n",
    "\n",
    "        self.embedding = nn.Embedding(vocab_size, embedding_size)\n",
    "        self.lstm = nn.LSTM(embedding_size, hidden_size, n_layers, dropout=dropout, batch_first=True)\n",
    "\n",
    "        self.batch_norm = nn.BatchNorm1d(hidden_size, momentum=0.1)\n",
    "        self.dropout = nn.Dropout(0.25)\n",
    "\n",
    "        self.fc = nn.Linear(hidden_size, output_size)\n",
    "        self.sigmoid = nn.Sigmoid()\n",
    "\n",
    "    def forward(self, x):\n",
    "        # convert feature to long\n",
    "        x = x.long()\n",
    "\n",
    "        # map input to vector\n",
    "        x = self.embedding(x)\n",
    "\n",
    "        # pass forward to lstm\n",
    "        o, _ = self.lstm(x)\n",
    "\n",
    "        # get last sequence output\n",
    "        o = o[:, -1, :]\n",
    "\n",
    "        # apply dropout and fully connected layer\n",
    "        o = self.batch_norm(o)\n",
    "        o = self.dropout(o)\n",
    "        o = self.fc(o)\n",
    "\n",
    "        # sigoid\n",
    "        o = self.sigmoid(o)\n",
    "\n",
    "        return o\n"
   ]
  },
  {
   "cell_type": "code",
   "execution_count": 78,
   "id": "7d527ee4-f5e7-495c-a878-42ef80be6fc3",
   "metadata": {},
   "outputs": [
    {
     "name": "stdout",
     "output_type": "stream",
     "text": [
      "cuda\n"
     ]
    }
   ],
   "source": [
    "device = torch.device(\"cuda\" if torch.cuda.is_available() else \"cpu\")\n",
    "print(device)"
   ]
  },
  {
   "cell_type": "code",
   "execution_count": 79,
   "id": "d276691e-df6d-4c6f-97c4-1073051015f4",
   "metadata": {},
   "outputs": [
    {
     "name": "stdout",
     "output_type": "stream",
     "text": [
      "SentimentModel(\n",
      "  (embedding): Embedding(206932, 256)\n",
      "  (lstm): LSTM(256, 512, num_layers=2, batch_first=True, dropout=0.25)\n",
      "  (batch_norm): BatchNorm1d(512, eps=1e-05, momentum=0.1, affine=True, track_running_stats=True)\n",
      "  (dropout): Dropout(p=0.25, inplace=False)\n",
      "  (fc): Linear(in_features=512, out_features=1, bias=True)\n",
      "  (sigmoid): Sigmoid()\n",
      ")\n"
     ]
    }
   ],
   "source": [
    "vocab_size = len(word2int)\n",
    "output_size = 1\n",
    "embedding_size = 256\n",
    "hidden_size = 512\n",
    "n_layers = 2\n",
    "dropout = 0.25\n",
    "\n",
    "model = SentimentModel(\n",
    "    vocab_size,\n",
    "    output_size,\n",
    "    hidden_size,\n",
    "    embedding_size,\n",
    "    n_layers,\n",
    "    dropout\n",
    ")\n",
    "print(model)"
   ]
  },
  {
   "cell_type": "code",
   "execution_count": 120,
   "id": "1b1babc6-eb17-4af7-8dac-5216bbab98df",
   "metadata": {},
   "outputs": [],
   "source": [
    "lr = 0.001\n",
    "# Specify L1 and L2 weights\n",
    "l1_weight = 1.e-3\n",
    "l2_weight = 1.e-4\n",
    "criterion = nn.BCELoss()\n",
    "optim = Adam(model.parameters(), lr=lr)#, weight_decay=1.0e-4)\n",
    "grad_clip = 5\n",
    "epochs = 14\n",
    "print_every = 1\n",
    "history = {\n",
    "    \"train_loss\": [],\n",
    "    \"train_acc\": [],\n",
    "    \"val_loss\": [],\n",
    "    \"val_acc\": [],\n",
    "    \"epochs\": epochs\n",
    "}\n",
    "es_limit = 5"
   ]
  },
  {
   "cell_type": "code",
   "execution_count": 121,
   "id": "64b827a0-9cea-4cd4-b506-9b158069fb03",
   "metadata": {},
   "outputs": [],
   "source": [
    "  def compute_l1_loss(w):\n",
    "      return torch.abs(w).sum()\n",
    "  \n",
    "  def compute_l2_loss(w):\n",
    "      return torch.square(w).sum()"
   ]
  },
  {
   "cell_type": "code",
   "execution_count": 122,
   "id": "a705e73d-b419-4353-8282-294f53c29286",
   "metadata": {},
   "outputs": [
    {
     "name": "stderr",
     "output_type": "stream",
     "text": [
      "Training:   7%|████████                                                                                                         | 1/14 [00:36<08:00, 36.96s/it, Val Loss: 10.693 | Val Acc: 0.869]"
     ]
    },
    {
     "name": "stdout",
     "output_type": "stream",
     "text": [
      "Epoch 1/14 | Train Loss: 12.082 Train Acc: 0.895 | Val Loss: 10.693 Val Acc: 0.869\n"
     ]
    },
    {
     "name": "stderr",
     "output_type": "stream",
     "text": [
      "Training:  21%|████████████████████████▍                                                                                         | 3/14 [01:15<04:40, 25.52s/it, Val Loss: 9.875 | Val Acc: 0.870]"
     ]
    },
    {
     "name": "stdout",
     "output_type": "stream",
     "text": [
      "Epoch 2/14 | Train Loss: 9.953 Train Acc: 0.904 | Val Loss: 9.875 Val Acc: 0.870\n"
     ]
    },
    {
     "name": "stderr",
     "output_type": "stream",
     "text": [
      "Training:  36%|█████████████████████████████████████████████                                                                                 | 5/14 [01:53<04:35, 30.56s/it, Training batch 2/274]"
     ]
    },
    {
     "name": "stdout",
     "output_type": "stream",
     "text": [
      "Epoch 3/14 | Train Loss: 10.544 Train Acc: 0.904 | Val Loss: 12.855 Val Acc: 0.867\n",
      "[WARNING] Validation loss did not improved (9.875 --> 12.855)\n"
     ]
    },
    {
     "name": "stderr",
     "output_type": "stream",
     "text": [
      "Training:  43%|██████████████████████████████████████████████████████                                                                        | 6/14 [02:30<03:13, 24.15s/it, Training batch 2/274]"
     ]
    },
    {
     "name": "stdout",
     "output_type": "stream",
     "text": [
      "Epoch 4/14 | Train Loss: 11.090 Train Acc: 0.906 | Val Loss: 10.348 Val Acc: 0.868\n",
      "[WARNING] Validation loss did not improved (9.875 --> 10.348)\n"
     ]
    },
    {
     "name": "stderr",
     "output_type": "stream",
     "text": [
      "Training:  57%|████████████████████████████████████████████████████████████████████████                                                      | 8/14 [03:07<02:46, 27.74s/it, Training batch 1/274]"
     ]
    },
    {
     "name": "stdout",
     "output_type": "stream",
     "text": [
      "Epoch 5/14 | Train Loss: 10.501 Train Acc: 0.908 | Val Loss: 12.973 Val Acc: 0.817\n",
      "[WARNING] Validation loss did not improved (9.875 --> 12.973)\n"
     ]
    },
    {
     "name": "stderr",
     "output_type": "stream",
     "text": [
      "Training:  64%|█████████████████████████████████████████████████████████████████████████████████                                             | 9/14 [03:45<01:58, 23.73s/it, Training batch 2/274]"
     ]
    },
    {
     "name": "stdout",
     "output_type": "stream",
     "text": [
      "Epoch 6/14 | Train Loss: 11.963 Train Acc: 0.908 | Val Loss: 14.590 Val Acc: 0.872\n",
      "[WARNING] Validation loss did not improved (9.875 --> 14.590)\n"
     ]
    },
    {
     "name": "stderr",
     "output_type": "stream",
     "text": [
      "Training:  43%|████████████████████████████████████████████████▍                                                                | 6/14 [04:21<05:49, 43.66s/it, Val Loss: 12.727 | Val Acc: 0.879]"
     ]
    },
    {
     "name": "stdout",
     "output_type": "stream",
     "text": [
      "Epoch 7/14 | Train Loss: 11.159 Train Acc: 0.907 | Val Loss: 12.727 Val Acc: 0.879\n",
      "[WARNING] Validation loss did not improved (9.875 --> 12.727)\n",
      "Early stopped at Epoch 7\n"
     ]
    },
    {
     "name": "stderr",
     "output_type": "stream",
     "text": [
      "\n"
     ]
    }
   ],
   "source": [
    "model = model.to(device)\n",
    "\n",
    "epochloop = tqdm(range(epochs), position=0, desc=\"Training\", leave=True)\n",
    "\n",
    "# early stop trigger\n",
    "es_trigger = 0\n",
    "val_loss_min = torch.inf\n",
    "\n",
    "for e in epochloop:\n",
    "    # Training\n",
    "    model.train()\n",
    "\n",
    "    train_loss = 0\n",
    "    train_acc = 0\n",
    "\n",
    "    for id_, (feature, target) in enumerate(trainloader):\n",
    "        epochloop.set_postfix_str(f\"Training batch {id_}/{len(trainloader)}\")\n",
    "\n",
    "        feature, target = feature.to(device), target.to(device)\n",
    "\n",
    "        optim.zero_grad()\n",
    "        out = model(feature)\n",
    "\n",
    "        predicted = torch.tensor([1 if i ==True else 0 for i in out > 0.5], device=device)\n",
    "        equals = predicted == target\n",
    "        acc = torch.mean(equals.type(torch.FloatTensor))\n",
    "        train_acc += acc.item()\n",
    "\n",
    "        loss = criterion(out.squeeze(), target.float())\n",
    "      \n",
    "        # Compute L1 and L2 loss component\n",
    "        parameters = []\n",
    "        for parameter in model.parameters():\n",
    "            parameters.append(parameter.view(-1))\n",
    "            \n",
    "        l1 = l1_weight * compute_l1_loss(torch.cat(parameters))\n",
    "        l2 = l2_weight * compute_l2_loss(torch.cat(parameters))\n",
    "      \n",
    "        # Add L1 and L2 loss components\n",
    "        loss += l1\n",
    "        loss += l2\n",
    "        \n",
    "        train_loss += loss.item()\n",
    "        loss.backward()\n",
    "\n",
    "        nn.utils.clip_grad_norm_(model.parameters(), grad_clip)\n",
    "\n",
    "        optim.step()\n",
    "\n",
    "        del feature, target, predicted\n",
    "\n",
    "    history[\"train_loss\"].append(train_loss / len(trainloader))\n",
    "    history[\"train_acc\"].append(train_acc / len(trainloader))\n",
    "\n",
    "    # Validation\n",
    "    model.eval()\n",
    "\n",
    "    val_loss = 0\n",
    "    val_acc = 0\n",
    "\n",
    "    with torch.no_grad():\n",
    "        for id_, (feature, target) in enumerate(validloader):\n",
    "            epochloop.set_postfix_str(f\"Validation batch {id_}/{len(validloader)}\")\n",
    "\n",
    "            feature, target = feature.to(device), target.to(device)\n",
    "            out = model(feature)\n",
    "\n",
    "            predicted = torch.tensor([1 if i == True else 0 for i in out > 0.5], device=device)\n",
    "            equals = predicted == target\n",
    "            acc = torch.mean(equals.type(torch.FloatTensor))\n",
    "            val_acc += acc.item()\n",
    "\n",
    "            loss = criterion(out.squeeze(), target.float())\n",
    "\n",
    "            # Compute L1 and L2 loss component\n",
    "            parameters = []\n",
    "            for parameter in model.parameters():\n",
    "                parameters.append(parameter.view(-1))\n",
    "                \n",
    "            l1 = l1_weight * compute_l1_loss(torch.cat(parameters))\n",
    "            l2 = l2_weight * compute_l2_loss(torch.cat(parameters))\n",
    "      \n",
    "            # Add L1 and L2 loss components\n",
    "            loss += l1\n",
    "            loss += l2\n",
    "        \n",
    "            val_loss += loss.item()\n",
    "\n",
    "            del feature, target, predicted\n",
    "\n",
    "\n",
    "    history[\"val_loss\"].append(val_loss / len(validloader))\n",
    "    history[\"val_acc\"].append(val_acc / len(validloader))\n",
    "\n",
    "\n",
    "    # Возвращаем модель в режим обучения\n",
    "    model.train()\n",
    "\n",
    "    info_str = f\"Val Loss: {val_loss / len(validloader):.3f} \"\n",
    "    info_str += f\"| Val Acc: {val_acc / len(validloader):.3f}\"\n",
    "    epochloop.set_postfix_str(info_str)\n",
    "\n",
    "    if (e + 1) % print_every == 0:\n",
    "        info_str = f\"Epoch {e+1}/{epochs} | Train Loss: {train_loss / len(trainloader):.3f} \"\n",
    "        info_str += f\"Train Acc: {train_acc / len(trainloader):.3f} \"\n",
    "        info_str += f\"| Val Loss: {val_loss / len(validloader):.3f} \"\n",
    "        info_str += f\"Val Acc: {val_acc / len(validloader):.3f}\"\n",
    "\n",
    "        epochloop.write(info_str)\n",
    "        epochloop.update()\n",
    "\n",
    "    if val_loss / len(validloader) <= val_loss_min:\n",
    "        torch.save(model.state_dict(), \"./sentiment_lstm.pt\")\n",
    "        val_loss_min = val_loss / len(validloader)\n",
    "        es_trigger = 0\n",
    "    else:\n",
    "        info_str = \"[WARNING] Validation loss did not improved (\"\n",
    "        info_str += f\"{val_loss_min:.3f} --> {val_loss / len(validloader):.3f})\"\n",
    "\n",
    "        epochloop.write(info_str)\n",
    "        es_trigger += 1\n",
    "\n",
    "    if es_trigger >= es_limit:\n",
    "        epochloop.write(f\"Early stopped at Epoch {e+1}\")\n",
    "        history[\"epochs\"] = e + 1\n",
    "        break"
   ]
  },
  {
   "cell_type": "code",
   "execution_count": 123,
   "id": "c4151065-c4c0-44ec-bb40-8700a46ccb38",
   "metadata": {},
   "outputs": [
    {
     "data": {
      "image/png": "[encoded data removed]",
      "text/plain": [
       "<Figure size 640x480 with 1 Axes>"
      ]
     },
     "metadata": {},
     "output_type": "display_data"
    }
   ],
   "source": [
    "plt.figure.Figure(figsize=(6, 6))\n",
    "plt.pyplot.plot(range(history[\"epochs\"]), history[\"train_acc\"], label=\"Train Acc\")\n",
    "plt.pyplot.plot(range(history[\"epochs\"]), history[\"val_acc\"], label=\"Val Acc\")\n",
    "plt.pyplot.legend()\n",
    "plt.pyplot.show()"
   ]
  },
  {
   "cell_type": "code",
   "execution_count": 124,
   "id": "e0bae685-31d3-4c0f-9037-9464bbab02a3",
   "metadata": {},
   "outputs": [
    {
     "data": {
      "image/png": "[encoded data removed]",
      "text/plain": [
       "<Figure size 640x480 with 1 Axes>"
      ]
     },
     "metadata": {},
     "output_type": "display_data"
    }
   ],
   "source": [
    "plt.figure.Figure(figsize=(6, 6))\n",
    "plt.pyplot.plot(range(history[\"epochs\"]), history[\"train_loss\"], label=\"Train Loss\")\n",
    "plt.pyplot.plot(range(history[\"epochs\"]), history[\"val_loss\"], label=\"Val Loss\")\n",
    "plt.pyplot.legend()\n",
    "plt.pyplot.show()"
   ]
  },
  {
   "cell_type": "code",
   "execution_count": 125,
   "id": "951ca99d-034b-4e9c-82cb-4c24e5930f9c",
   "metadata": {},
   "outputs": [
    {
     "name": "stderr",
     "output_type": "stream",
     "text": [
      "Inference: 100%|██████████████████████████████████████████████████████████████████████████████████████████████████████████████████████████████████████████████████| 59/59 [00:02<00:00, 21.51it/s]"
     ]
    },
    {
     "name": "stdout",
     "output_type": "stream",
     "text": [
      "Accuracy 0.8718, Loss: 0.3124\n"
     ]
    },
    {
     "name": "stderr",
     "output_type": "stream",
     "text": [
      "\n"
     ]
    }
   ],
   "source": [
    "model.eval()\n",
    "\n",
    "# metrics\n",
    "test_loss = 0\n",
    "test_acc = 0\n",
    "\n",
    "all_target = []\n",
    "all_predicted = []\n",
    "\n",
    "testloop = tqdm(testloader, leave=True, desc=\"Inference\")\n",
    "with torch.no_grad():\n",
    "    for feature, target in testloop:\n",
    "        feature, target = feature.to(device), target.to(device)\n",
    "\n",
    "        out = model(feature)\n",
    "\n",
    "        predicted = torch.tensor([1 if i == True else 0 for i in out > 0.5], device=device)\n",
    "        equals = predicted == target\n",
    "        acc = torch.mean(equals.type(torch.FloatTensor))\n",
    "        test_acc += acc.item()\n",
    "\n",
    "        loss = criterion(out.squeeze(), target.float())\n",
    "        test_loss += loss.item()\n",
    "\n",
    "        all_target.extend(target.cpu().numpy())\n",
    "        all_predicted.extend(predicted.cpu().numpy())\n",
    "\n",
    "\n",
    "print(f\"Accuracy {test_acc / len(testloader):.4f}, Loss: {test_loss / len(testloader):.4f}\")"
   ]
  },
  {
   "cell_type": "markdown",
   "id": "42ed041d-b879-4dfc-9c28-621357f9359e",
   "metadata": {},
   "source": [
    "# Оценка качества"
   ]
  },
  {
   "cell_type": "code",
   "execution_count": 126,
   "id": "8ac7003b-4ca0-4bf1-bd5d-b2811b160c0f",
   "metadata": {},
   "outputs": [
    {
     "name": "stdout",
     "output_type": "stream",
     "text": [
      "              precision    recall  f1-score   support\n",
      "\n",
      "           0       0.90      0.85      0.88      3972\n",
      "           1       0.84      0.90      0.87      3528\n",
      "\n",
      "    accuracy                           0.87      7500\n",
      "   macro avg       0.87      0.87      0.87      7500\n",
      "weighted avg       0.87      0.87      0.87      7500\n",
      "\n"
     ]
    }
   ],
   "source": [
    "print(classification_report(all_predicted, all_target))"
   ]
  },
  {
   "cell_type": "code",
   "execution_count": 127,
   "id": "e288e33d-b5b6-48a8-aa29-243b670c6b20",
   "metadata": {},
   "outputs": [
    {
     "data": {
      "image/png": "[encoded data removed]",
      "text/plain": [
       "<Figure size 640x480 with 2 Axes>"
      ]
     },
     "metadata": {},
     "output_type": "display_data"
    }
   ],
   "source": [
    "cm = confusion_matrix(all_predicted, all_target)\n",
    "plt.figure.Figure(figsize=(5, 5))\n",
    "sns.heatmap(cm, annot=True, fmt=\"g\")\n",
    "plt.pyplot.title(\"Confusion Matrix\")\n",
    "plt.pyplot.show()"
   ]
  }
 ],
 "metadata": {
  "kernelspec": {
   "display_name": "Python 3 (ipykernel)",
   "language": "python",
   "name": "python3"
  },
  "language_info": {
   "codemirror_mode": {
    "name": "ipython",
    "version": 3
   },
   "file_extension": ".py",
   "mimetype": "text/x-python",
   "name": "python",
   "nbconvert_exporter": "python",
   "pygments_lexer": "ipython3",
   "version": "3.12.0"
  }
 },
 "nbformat": 4,
 "nbformat_minor": 5
}
