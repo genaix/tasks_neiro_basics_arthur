{
 "cells": [
  {
   "cell_type": "code",
   "execution_count": 1,
   "id": "80bf78ad-ce42-497b-b581-5046376a0059",
   "metadata": {},
   "outputs": [
    {
     "name": "stderr",
     "output_type": "stream",
     "text": [
      "[nltk_data] Downloading package stopwords to\n",
      "[nltk_data]     C:\\Users\\Eug\\AppData\\Roaming\\nltk_data...\n",
      "[nltk_data]   Package stopwords is already up-to-date!\n",
      "[nltk_data] Downloading package wordnet to\n",
      "[nltk_data]     C:\\Users\\Eug\\AppData\\Roaming\\nltk_data...\n",
      "[nltk_data]   Package wordnet is already up-to-date!\n",
      "[nltk_data] Downloading package punkt to\n",
      "[nltk_data]     C:\\Users\\Eug\\AppData\\Roaming\\nltk_data...\n",
      "[nltk_data]   Package punkt is already up-to-date!\n"
     ]
    }
   ],
   "source": [
    "import pandas as pd\n",
    "import numpy as np\n",
    "\n",
    "import matplotlib as plt\n",
    "import seaborn as sns\n",
    "\n",
    "import re\n",
    "import nltk\n",
    "from nltk.tokenize import word_tokenize, sent_tokenize\n",
    "from nltk.corpus import stopwords\n",
    "from nltk.stem.wordnet import WordNetLemmatizer\n",
    "\n",
    "nltk.download(\"stopwords\")\n",
    "nltk.download(\"wordnet\")\n",
    "nltk.download('punkt')\n",
    "stop_words = set(stopwords.words(\"english\"))\n",
    "\n",
    "import torch\n",
    "from torch import nn\n",
    "from torch.optim import Adam\n",
    "from torch.utils.data import DataLoader\n",
    "from torch.utils.data import TensorDataset\n",
    "\n",
    "from sklearn.metrics import classification_report, confusion_matrix\n",
    "\n",
    "import os\n",
    "from tqdm import tqdm\n",
    "\n",
    "tqdm.pandas()\n",
    "\n",
    "from collections import Counter"
   ]
  },
  {
   "cell_type": "markdown",
   "id": "aa576038-979f-4639-bee8-47f0c3150fb7",
   "metadata": {},
   "source": [
    "# EDA\n",
    "\n",
    "1. Превратить метку в число\n",
    "2. Просмотр распределения данных (имбаланс или нет)\n",
    "3. Просмотр распрделения длины токена\n",
    "4. предварительный просмотр некоторых положительных и отрицательных отзывов"
   ]
  },
  {
   "cell_type": "code",
   "execution_count": 88,
   "id": "60166b6e-26b3-4080-b288-29d4df5cf51c",
   "metadata": {},
   "outputs": [
    {
     "data": {
      "text/html": [
       "<div>\n",
       "<style scoped>\n",
       "    .dataframe tbody tr th:only-of-type {\n",
       "        vertical-align: middle;\n",
       "    }\n",
       "\n",
       "    .dataframe tbody tr th {\n",
       "        vertical-align: top;\n",
       "    }\n",
       "\n",
       "    .dataframe thead th {\n",
       "        text-align: right;\n",
       "    }\n",
       "</style>\n",
       "<table border=\"1\" class=\"dataframe\">\n",
       "  <thead>\n",
       "    <tr style=\"text-align: right;\">\n",
       "      <th></th>\n",
       "      <th>Index</th>\n",
       "      <th>Author</th>\n",
       "      <th>Date published</th>\n",
       "      <th>Category</th>\n",
       "      <th>Section</th>\n",
       "      <th>Url</th>\n",
       "      <th>Headline</th>\n",
       "      <th>Description</th>\n",
       "      <th>Keywords</th>\n",
       "      <th>Second headline</th>\n",
       "      <th>Article text</th>\n",
       "    </tr>\n",
       "  </thead>\n",
       "  <tbody>\n",
       "    <tr>\n",
       "      <th>0</th>\n",
       "      <td>0</td>\n",
       "      <td>Jacopo Prisco, CNN</td>\n",
       "      <td>2021-07-15 02:46:59</td>\n",
       "      <td>news</td>\n",
       "      <td>world</td>\n",
       "      <td>https://www.cnn.com/2021/07/14/world/tusimple-...</td>\n",
       "      <td>There's a shortage of truckers, but TuSimple t...</td>\n",
       "      <td>The e-commerce boom has exacerbated a global t...</td>\n",
       "      <td>world, There's a shortage of truckers, but TuS...</td>\n",
       "      <td>There's a shortage of truckers, but TuSimple t...</td>\n",
       "      <td>(CNN)Right now, there's a shortage of truck d...</td>\n",
       "    </tr>\n",
       "    <tr>\n",
       "      <th>1</th>\n",
       "      <td>1</td>\n",
       "      <td>Stephanie Bailey, CNN</td>\n",
       "      <td>2021-05-12 07:52:09</td>\n",
       "      <td>news</td>\n",
       "      <td>world</td>\n",
       "      <td>https://www.cnn.com/2021/05/12/world/ironhand-...</td>\n",
       "      <td>Bioservo's robotic 'Ironhand' could protect fa...</td>\n",
       "      <td>Working in a factory can mean doing the same t...</td>\n",
       "      <td>world, Bioservo's robotic 'Ironhand' could pro...</td>\n",
       "      <td>A robotic 'Ironhand' could protect factory wor...</td>\n",
       "      <td>(CNN)Working in a factory or warehouse can me...</td>\n",
       "    </tr>\n",
       "    <tr>\n",
       "      <th>2</th>\n",
       "      <td>2</td>\n",
       "      <td>Words by Stephanie Bailey, video by Zahra Jamshed</td>\n",
       "      <td>2021-06-16 02:51:30</td>\n",
       "      <td>news</td>\n",
       "      <td>asia</td>\n",
       "      <td>https://www.cnn.com/2021/06/15/asia/swarm-robo...</td>\n",
       "      <td>This swarm of robots gets smarter the more it ...</td>\n",
       "      <td>In a Hong Kong warehouse, a swarm of autonomou...</td>\n",
       "      <td>asia, This swarm of robots gets smarter the mo...</td>\n",
       "      <td>This swarm of robots gets smarter the more it ...</td>\n",
       "      <td>(CNN)In a Hong Kong warehouse, a swarm of aut...</td>\n",
       "    </tr>\n",
       "    <tr>\n",
       "      <th>3</th>\n",
       "      <td>3</td>\n",
       "      <td>Kathryn Vasel</td>\n",
       "      <td>2022-03-18 14:37:21</td>\n",
       "      <td>business</td>\n",
       "      <td>success</td>\n",
       "      <td>https://www.cnn.com/2022/03/18/success/pandemi...</td>\n",
       "      <td>Two years later, remote work has changed milli...</td>\n",
       "      <td>Here's a look at how the pandemic reshaped peo...</td>\n",
       "      <td>success, Two years later, remote work has chan...</td>\n",
       "      <td>Two years later, remote work has changed milli...</td>\n",
       "      <td>The pandemic thrust the working world into a n...</td>\n",
       "    </tr>\n",
       "    <tr>\n",
       "      <th>4</th>\n",
       "      <td>4</td>\n",
       "      <td>Paul R. La Monica, CNN Business</td>\n",
       "      <td>2022-03-19 11:41:08</td>\n",
       "      <td>business</td>\n",
       "      <td>investing</td>\n",
       "      <td>https://www.cnn.com/2022/03/19/investing/march...</td>\n",
       "      <td>Why March is so volatile for stocks - CNN</td>\n",
       "      <td>March Madness isn't just for college basketbal...</td>\n",
       "      <td>investing, Why March is so volatile for stocks...</td>\n",
       "      <td>Why March is so volatile for stocks</td>\n",
       "      <td>New York (CNN Business)March Madness isn't jus...</td>\n",
       "    </tr>\n",
       "  </tbody>\n",
       "</table>\n",
       "</div>"
      ],
      "text/plain": [
       "   Index                                             Author  \\\n",
       "0      0                                 Jacopo Prisco, CNN   \n",
       "1      1                              Stephanie Bailey, CNN   \n",
       "2      2  Words by Stephanie Bailey, video by Zahra Jamshed   \n",
       "3      3                                     Kathryn Vasel    \n",
       "4      4                    Paul R. La Monica, CNN Business   \n",
       "\n",
       "        Date published  Category    Section  \\\n",
       "0  2021-07-15 02:46:59      news      world   \n",
       "1  2021-05-12 07:52:09      news      world   \n",
       "2  2021-06-16 02:51:30      news       asia   \n",
       "3  2022-03-18 14:37:21  business    success   \n",
       "4  2022-03-19 11:41:08  business  investing   \n",
       "\n",
       "                                                 Url  \\\n",
       "0  https://www.cnn.com/2021/07/14/world/tusimple-...   \n",
       "1  https://www.cnn.com/2021/05/12/world/ironhand-...   \n",
       "2  https://www.cnn.com/2021/06/15/asia/swarm-robo...   \n",
       "3  https://www.cnn.com/2022/03/18/success/pandemi...   \n",
       "4  https://www.cnn.com/2022/03/19/investing/march...   \n",
       "\n",
       "                                            Headline  \\\n",
       "0  There's a shortage of truckers, but TuSimple t...   \n",
       "1  Bioservo's robotic 'Ironhand' could protect fa...   \n",
       "2  This swarm of robots gets smarter the more it ...   \n",
       "3  Two years later, remote work has changed milli...   \n",
       "4          Why March is so volatile for stocks - CNN   \n",
       "\n",
       "                                         Description  \\\n",
       "0  The e-commerce boom has exacerbated a global t...   \n",
       "1  Working in a factory can mean doing the same t...   \n",
       "2  In a Hong Kong warehouse, a swarm of autonomou...   \n",
       "3  Here's a look at how the pandemic reshaped peo...   \n",
       "4  March Madness isn't just for college basketbal...   \n",
       "\n",
       "                                            Keywords  \\\n",
       "0  world, There's a shortage of truckers, but TuS...   \n",
       "1  world, Bioservo's robotic 'Ironhand' could pro...   \n",
       "2  asia, This swarm of robots gets smarter the mo...   \n",
       "3  success, Two years later, remote work has chan...   \n",
       "4  investing, Why March is so volatile for stocks...   \n",
       "\n",
       "                                     Second headline  \\\n",
       "0  There's a shortage of truckers, but TuSimple t...   \n",
       "1  A robotic 'Ironhand' could protect factory wor...   \n",
       "2  This swarm of robots gets smarter the more it ...   \n",
       "3  Two years later, remote work has changed milli...   \n",
       "4                Why March is so volatile for stocks   \n",
       "\n",
       "                                        Article text  \n",
       "0   (CNN)Right now, there's a shortage of truck d...  \n",
       "1   (CNN)Working in a factory or warehouse can me...  \n",
       "2   (CNN)In a Hong Kong warehouse, a swarm of aut...  \n",
       "3  The pandemic thrust the working world into a n...  \n",
       "4  New York (CNN Business)March Madness isn't jus...  "
      ]
     },
     "execution_count": 88,
     "metadata": {},
     "output_type": "execute_result"
    }
   ],
   "source": [
    "data = pd.read_csv(\"data/CNN_Articles.csv\")\n",
    "data.head()"
   ]
  },
  {
   "cell_type": "code",
   "execution_count": 89,
   "id": "3cb6b305-9e8d-49c9-9723-bf64077101ce",
   "metadata": {},
   "outputs": [
    {
     "data": {
      "text/html": [
       "<div>\n",
       "<style scoped>\n",
       "    .dataframe tbody tr th:only-of-type {\n",
       "        vertical-align: middle;\n",
       "    }\n",
       "\n",
       "    .dataframe tbody tr th {\n",
       "        vertical-align: top;\n",
       "    }\n",
       "\n",
       "    .dataframe thead th {\n",
       "        text-align: right;\n",
       "    }\n",
       "</style>\n",
       "<table border=\"1\" class=\"dataframe\">\n",
       "  <thead>\n",
       "    <tr style=\"text-align: right;\">\n",
       "      <th></th>\n",
       "      <th>Article text</th>\n",
       "      <th>Category</th>\n",
       "    </tr>\n",
       "  </thead>\n",
       "  <tbody>\n",
       "    <tr>\n",
       "      <th>0</th>\n",
       "      <td>(CNN)Right now, there's a shortage of truck d...</td>\n",
       "      <td>news</td>\n",
       "    </tr>\n",
       "    <tr>\n",
       "      <th>1</th>\n",
       "      <td>(CNN)Working in a factory or warehouse can me...</td>\n",
       "      <td>news</td>\n",
       "    </tr>\n",
       "    <tr>\n",
       "      <th>2</th>\n",
       "      <td>(CNN)In a Hong Kong warehouse, a swarm of aut...</td>\n",
       "      <td>news</td>\n",
       "    </tr>\n",
       "    <tr>\n",
       "      <th>3</th>\n",
       "      <td>The pandemic thrust the working world into a n...</td>\n",
       "      <td>business</td>\n",
       "    </tr>\n",
       "    <tr>\n",
       "      <th>4</th>\n",
       "      <td>New York (CNN Business)March Madness isn't jus...</td>\n",
       "      <td>business</td>\n",
       "    </tr>\n",
       "    <tr>\n",
       "      <th>...</th>\n",
       "      <td>...</td>\n",
       "      <td>...</td>\n",
       "    </tr>\n",
       "    <tr>\n",
       "      <th>37944</th>\n",
       "      <td>(CNN)Russian President Vladimir Putin has bee...</td>\n",
       "      <td>sport</td>\n",
       "    </tr>\n",
       "    <tr>\n",
       "      <th>37945</th>\n",
       "      <td>Lviv, Ukraine (CNN)A long line of men snakes o...</td>\n",
       "      <td>news</td>\n",
       "    </tr>\n",
       "    <tr>\n",
       "      <th>37946</th>\n",
       "      <td>(CNN)Major League Baseball (MLB) is postponin...</td>\n",
       "      <td>sport</td>\n",
       "    </tr>\n",
       "    <tr>\n",
       "      <th>37947</th>\n",
       "      <td>Here's a look at the life of Mikhail Gorbachev...</td>\n",
       "      <td>news</td>\n",
       "    </tr>\n",
       "    <tr>\n",
       "      <th>37948</th>\n",
       "      <td>(CNN)Here's a look at the life of Her Royal H...</td>\n",
       "      <td>news</td>\n",
       "    </tr>\n",
       "  </tbody>\n",
       "</table>\n",
       "<p>37949 rows × 2 columns</p>\n",
       "</div>"
      ],
      "text/plain": [
       "                                            Article text  Category\n",
       "0       (CNN)Right now, there's a shortage of truck d...      news\n",
       "1       (CNN)Working in a factory or warehouse can me...      news\n",
       "2       (CNN)In a Hong Kong warehouse, a swarm of aut...      news\n",
       "3      The pandemic thrust the working world into a n...  business\n",
       "4      New York (CNN Business)March Madness isn't jus...  business\n",
       "...                                                  ...       ...\n",
       "37944   (CNN)Russian President Vladimir Putin has bee...     sport\n",
       "37945  Lviv, Ukraine (CNN)A long line of men snakes o...      news\n",
       "37946   (CNN)Major League Baseball (MLB) is postponin...     sport\n",
       "37947  Here's a look at the life of Mikhail Gorbachev...      news\n",
       "37948   (CNN)Here's a look at the life of Her Royal H...      news\n",
       "\n",
       "[37949 rows x 2 columns]"
      ]
     },
     "execution_count": 89,
     "metadata": {},
     "output_type": "execute_result"
    }
   ],
   "source": [
    "data = data[[\"Article text\", \"Category\"]]\n",
    "data"
   ]
  },
  {
   "cell_type": "code",
   "execution_count": 90,
   "id": "3fdddc29-8471-4b9c-bb3e-7cd6217468c9",
   "metadata": {},
   "outputs": [
    {
     "data": {
      "text/plain": [
       "Category\n",
       "news             18077\n",
       "sport            15542\n",
       "politics          2461\n",
       "business           854\n",
       "health             557\n",
       "entertainment      413\n",
       "travel              39\n",
       "vr                   5\n",
       "style                1\n",
       "Name: count, dtype: int64"
      ]
     },
     "execution_count": 90,
     "metadata": {},
     "output_type": "execute_result"
    }
   ],
   "source": [
    "data[\"Category\"].value_counts()"
   ]
  },
  {
   "cell_type": "code",
   "execution_count": 91,
   "id": "dddaf435-19d4-43ad-bced-b39e7c8e245f",
   "metadata": {},
   "outputs": [],
   "source": [
    "# X = data[\"Article text\"]\n",
    "y = data[\"Category\"]"
   ]
  },
  {
   "cell_type": "code",
   "execution_count": 92,
   "id": "bd5d38b3-e60e-4041-a6eb-caf21adf7ddd",
   "metadata": {},
   "outputs": [
    {
     "data": {
      "text/plain": [
       "(array([0, 0, 0, ..., 4, 0, 0], dtype=int64),\n",
       " Index(['news', 'business', 'health', 'entertainment', 'sport', 'politics',\n",
       "        'travel', 'vr', 'style'],\n",
       "       dtype='object'))"
      ]
     },
     "execution_count": 92,
     "metadata": {},
     "output_type": "execute_result"
    }
   ],
   "source": [
    "y.factorize()"
   ]
  },
  {
   "cell_type": "code",
   "execution_count": 93,
   "id": "b34cbeba-6e47-4bb5-a1c4-0124cc9f96c8",
   "metadata": {},
   "outputs": [],
   "source": [
    "data[\"label\"] = y.factorize()[0]"
   ]
  },
  {
   "cell_type": "markdown",
   "id": "7b5ea954-cf1a-400f-bbd0-629f7b643c08",
   "metadata": {},
   "source": [
    "# Очистка и предобработка\n",
    "\n",
    "1. Создадим пайплай очистки текста\n",
    "2. Создадим пайплайн предварительной обработки текста\n",
    "3. Сохраним предобработанные данные в виде нового CSV-файле."
   ]
  },
  {
   "cell_type": "code",
   "execution_count": 81,
   "id": "280ab8d1-948f-4441-96bd-802b3ba6ddf7",
   "metadata": {},
   "outputs": [],
   "source": [
    "# data.dropna(how='all', inplace=True)"
   ]
  },
  {
   "cell_type": "code",
   "execution_count": 97,
   "id": "e94d40ab-5dd6-43aa-abf2-d02ae7a9e533",
   "metadata": {},
   "outputs": [
    {
     "data": {
      "text/plain": [
       "'\\n\\n\\n'"
      ]
     },
     "execution_count": 97,
     "metadata": {},
     "output_type": "execute_result"
    }
   ],
   "source": [
    "data[\"Article text\"][4506]"
   ]
  },
  {
   "cell_type": "code",
   "execution_count": 98,
   "id": "f32e9c37-34c7-4b5b-adb8-42c0b881b124",
   "metadata": {},
   "outputs": [],
   "source": [
    "data[\"text\"] = data[\"Article text\"].astype(str)"
   ]
  },
  {
   "cell_type": "code",
   "execution_count": 99,
   "id": "af38ca75-a5fc-4b6e-9bc5-9745c0c5cbcf",
   "metadata": {},
   "outputs": [],
   "source": [
    "def rm_link(text):\n",
    "    return re.sub(r'https?://\\S+|www\\.\\S+', '', text)\n",
    "\n",
    "def rm_punct2(text):\n",
    "    return re.sub (r'[\\\"\\#\\$\\%\\&\\'\\(\\)\\*\\+\\/\\;\\;\\<\\=\\>\\@\\[\\\\\\]\\^\\_\\`\\{\\ /\\}\\~]', ' ', text)\n",
    "\n",
    "def rm_html(text):\n",
    "    return re.sub (r'<[^>]+>', '', text)\n",
    "\n",
    "def space_bt_punct(text):\n",
    "    pattern = r' ([.,!?-])'\n",
    "    s = re.sub(pattern, r' \\1', text)\n",
    "    s = re.sub (r'\\s{2,}', ' ', s)\n",
    "    return s\n",
    "\n",
    "def rm_number (text):\n",
    "    return re.sub (r'\\d+', '', text)\n",
    "\n",
    "def rm_whitespaces (text):\n",
    "    return re.sub (r' +', ' ', text)\n",
    "\n",
    "def rm_nonascii(text):\n",
    "    return re.sub (r'[^\\x00-\\x7f]', r'', text)\n",
    "\n",
    "def rm_emoji(text):\n",
    "    emojis = re.compile(\n",
    "        '['\n",
    "        u'\\U0001F600-\\U0001F64F'\n",
    "        u'\\U0001F300-\\U0001F5FF'\n",
    "        u'\\U0001F680-\\U0001F6FF'\n",
    "        u'\\U0001F1E0-\\U0001F1FF'\n",
    "        u'\\U00002702-\\U000027B0'\n",
    "        u'\\U000024C2-\\U0001F251'\n",
    "        ']+',\n",
    "        flags=re.UNICODE\n",
    "    )\n",
    "    return emojis.sub(r'', text)\n",
    "\n",
    "def spell_correction(text):\n",
    "    return re.sub (r' (.)\\1+', r'\\1\\1', text)\n",
    "\n",
    "\n",
    "def clean_pipeline(text):\n",
    "    no_link = rm_link(text)\n",
    "    no_html = rm_html(no_link)\n",
    "    space_punct = space_bt_punct(no_html)\n",
    "    no_punct = rm_punct2(space_punct)\n",
    "    no_number = rm_number(no_punct)\n",
    "    no_whitespaces = rm_whitespaces(no_number)\n",
    "    no_nonasci = rm_nonascii(no_whitespaces)\n",
    "    no_emoji  = rm_emoji(no_nonasci)\n",
    "    spell_corrected = spell_correction(no_emoji)\n",
    "    return spell_corrected"
   ]
  },
  {
   "cell_type": "code",
   "execution_count": 100,
   "id": "86d051be-3a18-4a63-8328-4b3f340367dc",
   "metadata": {},
   "outputs": [],
   "source": [
    "def tokenize(text):\n",
    "    return word_tokenize(text)\n",
    "\n",
    "def rm_stopwords(text):\n",
    "    return [i for i in text if i not in stop_words]\n",
    "\n",
    "def lemmatize(text):\n",
    "    lemmatizer = WordNetLemmatizer()\n",
    "    lemmas = [lemmatizer.lemmatize(t) for t in text]\n",
    "    # make sure lemmas does not contains stopwords\n",
    "    return rm_stopwords(lemmas)\n",
    "\n",
    "def preprocess_pipeline(text):\n",
    "    tokens = tokenize(text)\n",
    "    no_stopwords = rm_stopwords(tokens)\n",
    "    lemmas = lemmatize(no_stopwords)\n",
    "    return ' '.join(lemmas)"
   ]
  },
  {
   "cell_type": "code",
   "execution_count": 101,
   "id": "b183b454-ea30-4eeb-ba40-2b9bba330777",
   "metadata": {},
   "outputs": [
    {
     "name": "stderr",
     "output_type": "stream",
     "text": [
      "100%|██████████████████████████████████████████████████████████████████████████████████████████████████████████████████████████████████████████████████████| 37949/37949 [00:39<00:00, 969.30it/s]\n",
      "100%|██████████████████████████████████████████████████████████████████████████████████████████████████████████████████████████████████████████████████████| 37949/37949 [03:27<00:00, 182.62it/s]\n"
     ]
    },
    {
     "data": {
      "text/html": [
       "<div>\n",
       "<style scoped>\n",
       "    .dataframe tbody tr th:only-of-type {\n",
       "        vertical-align: middle;\n",
       "    }\n",
       "\n",
       "    .dataframe tbody tr th {\n",
       "        vertical-align: top;\n",
       "    }\n",
       "\n",
       "    .dataframe thead th {\n",
       "        text-align: right;\n",
       "    }\n",
       "</style>\n",
       "<table border=\"1\" class=\"dataframe\">\n",
       "  <thead>\n",
       "    <tr style=\"text-align: right;\">\n",
       "      <th></th>\n",
       "      <th>Article text</th>\n",
       "      <th>Category</th>\n",
       "      <th>label</th>\n",
       "      <th>text</th>\n",
       "      <th>clean</th>\n",
       "      <th>processed</th>\n",
       "    </tr>\n",
       "  </thead>\n",
       "  <tbody>\n",
       "    <tr>\n",
       "      <th>0</th>\n",
       "      <td>(CNN)Right now, there's a shortage of truck d...</td>\n",
       "      <td>news</td>\n",
       "      <td>0</td>\n",
       "      <td>(CNN)Right now, there's a shortage of truck d...</td>\n",
       "      <td>CNN Right now, there s a shortage of truck dr...</td>\n",
       "      <td>CNN Right , shortage truck driver US worldwide...</td>\n",
       "    </tr>\n",
       "    <tr>\n",
       "      <th>1</th>\n",
       "      <td>(CNN)Working in a factory or warehouse can me...</td>\n",
       "      <td>news</td>\n",
       "      <td>0</td>\n",
       "      <td>(CNN)Working in a factory or warehouse can me...</td>\n",
       "      <td>CNN Working in a factory or warehouse can mea...</td>\n",
       "      <td>CNN Working factory warehouse mean task , repe...</td>\n",
       "    </tr>\n",
       "    <tr>\n",
       "      <th>2</th>\n",
       "      <td>(CNN)In a Hong Kong warehouse, a swarm of aut...</td>\n",
       "      <td>news</td>\n",
       "      <td>0</td>\n",
       "      <td>(CNN)In a Hong Kong warehouse, a swarm of aut...</td>\n",
       "      <td>CNN In a Hong Kong warehouse, a swarm of auto...</td>\n",
       "      <td>CNN In Hong Kong warehouse , swarm autonomous ...</td>\n",
       "    </tr>\n",
       "    <tr>\n",
       "      <th>3</th>\n",
       "      <td>The pandemic thrust the working world into a n...</td>\n",
       "      <td>business</td>\n",
       "      <td>1</td>\n",
       "      <td>The pandemic thrust the working world into a n...</td>\n",
       "      <td>The pandemic thrust the working world into a n...</td>\n",
       "      <td>The pandemic thrust working world new reality ...</td>\n",
       "    </tr>\n",
       "    <tr>\n",
       "      <th>4</th>\n",
       "      <td>New York (CNN Business)March Madness isn't jus...</td>\n",
       "      <td>business</td>\n",
       "      <td>1</td>\n",
       "      <td>New York (CNN Business)March Madness isn't jus...</td>\n",
       "      <td>New York CNN Business March Madness isn t just...</td>\n",
       "      <td>New York CNN Business March Madness college ba...</td>\n",
       "    </tr>\n",
       "  </tbody>\n",
       "</table>\n",
       "</div>"
      ],
      "text/plain": [
       "                                        Article text  Category  label  \\\n",
       "0   (CNN)Right now, there's a shortage of truck d...      news      0   \n",
       "1   (CNN)Working in a factory or warehouse can me...      news      0   \n",
       "2   (CNN)In a Hong Kong warehouse, a swarm of aut...      news      0   \n",
       "3  The pandemic thrust the working world into a n...  business      1   \n",
       "4  New York (CNN Business)March Madness isn't jus...  business      1   \n",
       "\n",
       "                                                text  \\\n",
       "0   (CNN)Right now, there's a shortage of truck d...   \n",
       "1   (CNN)Working in a factory or warehouse can me...   \n",
       "2   (CNN)In a Hong Kong warehouse, a swarm of aut...   \n",
       "3  The pandemic thrust the working world into a n...   \n",
       "4  New York (CNN Business)March Madness isn't jus...   \n",
       "\n",
       "                                               clean  \\\n",
       "0   CNN Right now, there s a shortage of truck dr...   \n",
       "1   CNN Working in a factory or warehouse can mea...   \n",
       "2   CNN In a Hong Kong warehouse, a swarm of auto...   \n",
       "3  The pandemic thrust the working world into a n...   \n",
       "4  New York CNN Business March Madness isn t just...   \n",
       "\n",
       "                                           processed  \n",
       "0  CNN Right , shortage truck driver US worldwide...  \n",
       "1  CNN Working factory warehouse mean task , repe...  \n",
       "2  CNN In Hong Kong warehouse , swarm autonomous ...  \n",
       "3  The pandemic thrust working world new reality ...  \n",
       "4  New York CNN Business March Madness college ba...  "
      ]
     },
     "execution_count": 101,
     "metadata": {},
     "output_type": "execute_result"
    }
   ],
   "source": [
    "data[\"clean\"] = data[\"text\"].progress_apply(clean_pipeline)\n",
    "data[\"processed\"] = data[\"clean\"].progress_apply(preprocess_pipeline)\n",
    "data.head()"
   ]
  },
  {
   "cell_type": "code",
   "execution_count": 103,
   "id": "d95ee25e-5e6e-4530-bab2-a46150b1dae8",
   "metadata": {},
   "outputs": [],
   "source": [
    "data.drop(data[data[\"processed\"].str.len() < 10].index, inplace=True)"
   ]
  },
  {
   "cell_type": "code",
   "execution_count": 104,
   "id": "e87b8c38-0388-4b83-a781-c2b60da85058",
   "metadata": {},
   "outputs": [
    {
     "data": {
      "text/plain": [
       "(37916, 6)"
      ]
     },
     "execution_count": 104,
     "metadata": {},
     "output_type": "execute_result"
    }
   ],
   "source": [
    "data.shape"
   ]
  },
  {
   "cell_type": "code",
   "execution_count": 105,
   "id": "2dde0f0c-b123-45ac-ad05-e992e13de3ac",
   "metadata": {},
   "outputs": [],
   "source": [
    "data[[\"processed\", \"label\"]].to_csv(\"./data/CNN_processed.csv\", index=False, header=True)"
   ]
  },
  {
   "cell_type": "markdown",
   "id": "52ba3cd8-dbc6-484f-a134-504a05072ff8",
   "metadata": {},
   "source": [
    "# Подготовка датасета\n",
    "\n",
    "К настоящему времени у нас уже есть обработанные даннеы. Прежде чем перейдем к этапу классификации, нам нужно преобразовать текст в векторыне представления (эмбеддинги). Для этого еам нужно создать словарь, который сопоставляет каждый токен с идентификаторами.\n",
    "\n",
    "1. создадим словарь\n",
    "2. закодируем отзывы\n",
    "3. дополним короткие обзоры и обрежем длинные\n",
    "4. разделим значения выборки на обучение / тест / валидацию\n",
    "5. подготовим загрузчик данных и пакеты"
   ]
  },
  {
   "cell_type": "code",
   "execution_count": 2,
   "id": "9f7f9a79-30f1-48d0-b522-b11e0d5fd029",
   "metadata": {},
   "outputs": [
    {
     "name": "stdout",
     "output_type": "stream",
     "text": [
      "CNN Right , shortage truck driver US worldwide , exacerbated e-commerce boom brought pandemic . One solution problem autonomous truck , several company race first launch one . Among San Diego-based TuSimple.Founded , TuSimple completed million mile road test prototype truck across US , China Europe . Although simply commercially available truck retrofitted technology , TuSimple deal place two world largest truck manufacturer -- Navistar US Traton , Volkswagen trucking business , Europe -- design build fully autonomous model , hope launch . Photos : The Yara Birkeland builder call world first zero-emission , autonomous cargo ship . The ship scheduled make first journey two Norwegian town end year . Click see form transport set transform future.Hide Caption Photos : Pictured rendering , Oceanbird wind-powered transatlantic car carrier cut carbon emission , compared standard car carrier.Hide Caption Photos : It maritime ship going green . Cities around world adopting electric ferry . Norwegian startup Zeabuz hope self-driving electric ferry pictured rendering help revive urban waterways.Hide Caption Photos : In China , new Maglev high-speed train roll production line Qingdao , east China Shandong Province , July . It top speed km per hour -- currently fastest ground vehicle available globally . Hide Caption Photos : Reaching speed , kilometer mile per hour , Hyperloop could sustainable replacement short-haul flight . Dutch company Hardt shown rendering started work Hyperloop test facility Europe , anticipated open .Hide Caption Photos : Hyperloop like bullet train , without track rail . Floating pod propelled low-pressure steel tube using magnetic levitation . Virgin running test passenger XP- vehicle , pictured here.Hide Caption Photos : Low carbon travel switching sustainable fuel source -- also redesigning transport . A Flying-V plane designed Delft University Technology Netherlands Dutch airline KLM cut fuel consumption . Ultimately , researcher hope switch kerosene sustainable fuel source , like liquid hydrogen.Hide Caption Photos : Hydrogen aviation could provide sustainable solution short medium-haul flight . In September , Airbus unveiled plan three hydrogen-powered , zero-emission aircraft carry passenger . It hope launch first ZEROe aircraft .Hide Caption Photos : In December , Canadian airline Harbour Air flew world first all-electric , zero-emission commercial aircraft . The six-seater seaplane retrofitted magniX magni all-electric motor . Harbour Air -- carry half million passenger annually -- hope become world first all-electric airline . Hide Caption Photos : In case electric bike , future : one retailer reported sale e-bikes e-scooters increased year . E-bikes give user boost pedaling , allowing go le effort . E-bikes even available ride-share apps , like Uber.Hide Caption Photos : While sleeper train bus might way u get shut-eye overnight travel , rendering self-driving hotel suite Toronto-based designer Steve Lee Aprilli Design Studio might offer plush alternative future.Hide Caption Photos : In UAE , futuristic-looking pod undergoing testing -meter line Sharjah , border Dubai . Belarus-based uSky Transport say pod help city solve traffic problems.Hide Caption Photos : The Coradia iLint French rail transport company Alstom world first hydrogen-powered passenger train . It began testing Germany , September entered regular service Austria.Hide Caption No sleepTuSimple latest road test involved hauling fresh produce mile , Nogales , Arizona Oklahoma City . The pickup dropoff handled human driver , bulk route -- Tucson Dallas -- truck drove . Read More Today , system fully ready , safety driver safety engineer board time testing , drove full autonomy : driver touching wheel , said Cheng Lu , TuSimple president CEO . The journey completed hour versus usual human driver , mostly truck need sleep . In US , driver work hour day . We simply handoff first pair driver stop reached hour operation , said Lu . That , course , negates advantage autonomous system , idea TuSimple truck hit market , need anyone onboard . Picking watermelon still required human touch.Unlike self-driving car , still way commercially available , TuSimple truck required operate bustling city traffic , stretch highway thoroughly mapped via company software . We collect data road , create detailed , high definition map route . That add another layer safety vehicle , said Lu . As result , TuSimple truck able self-drive along pre-mapped trade corridor , Lu call virtual railroad , nowhere else . This swarm robot get smarter worksAccording company , US good travel nation trade corridor , even selective mapping allows capturing large portion business . TuSimple currently mapping route Arizona Texas , plan mapped route across nation . Its plan dependent state legislation , however , currently state allow testing autonomous truck public road . Happier driver ? The technology add , cost truck , making final price roughly , . According Lu , still cheaper paying human driver . If take , divide million mile , average lifespan truck , mean adding five cent per mile . But saving cost human driver , based average US wage , , per year -- cent . per mile . Today , direct labor cost cost operating truck , said . Read : A robotic Ironhand could protect factory worker injuriesThat mean driverless truck take away job , according Lu . By focusing middle mile , rather pickup delivery good , TuSimple belief create new freight capacity without creating new demand driver , time protecting existing job . A UPS driver dropping package day -- autonomy meant . We believe every driver able retire driver , even enter workforce today , said Lu . TuSimple autonomous fleet.Instead , TuSimple aim take route terminal distribution center , involve long stretch monotonous driving . Take Phoenix El Paso : six-hour drive . A person make round trip , hour . But truck go back forth day , mundane job driver want . That mean free human driver first last mile pickup delivery .They get work full day , efficient use time , get go home night family , said Lu.No distraction Although Lu say reliability software hardware still need increased , TuSimple planning first fully autonomous test , without human safety driver cabin , end year . The result test indicate whether company meet goal launch truck . Lu say , reserved US alone . Photos : The robot running warehouse Photos : The robot running warehousesRobots increasingly familiar presence warehouse . At south-east London warehouse run British online supermarket Ocado , , robot fulfill shopping order . When order sent warehouse , bot spring life head towards container require . Scroll see robot revolutionizing warehouses.Hide Caption Photos : The robot running warehousesIn response coronavirus pandemic , MIT collaborated Ava Robotics Greater Boston Food Bank design robot use UV light sanitize floor , -square foot warehouse minute . Hide Caption Photos : The robot running warehousesSeven-foot Model-T robot produced Japanese startup Telexistence stacking shelf two Tokyo largest convenience store franchise . Featuring camera , microphone sensor , Model-T us three finger stock item bottled drink , rice bowl . The robot controlled shop staff remotely.Hide Caption Photos : The robot running warehousesUS company Boston Dynamics become known advanced work robot . Handle made warehouse equipped on-board vision system . It lift box weighing pound . Hide Caption Photos : The robot running warehousesStretch latest robot Boston Dynamics work warehouse distribution center . Designed keep human worker harm way , Stretch tentacle-like grippers mean manipulate box . Hide Caption Photos : The robot running warehousesAlthough specifically designed warehouse , Boston Dynamics dog-like robot Spot lift object , pick fall , open walk door , even remind people practice social distancing . Hide Caption Photos : The robot running warehousesThis robot used plant seed check plant Nordic Harvest vertical farm based Taastrup , Denmark . The indoor farm one biggest Europe.Hide Caption Photos : The robot running warehousesRobots sort package warehouse run JD.com -- one China largest e-commerce firm , Wuhan , China , ahead annual Singles Day online shopping bonanza , .Hide Caption TuSimple prominent competitor , Google spinoff Waymo Uber-backed Aurora , working wider range self-driving vehicle , including passenger car . TuSimple working exclusively driverless truck , like US company Plus Embark . Grayson Brulte , autonomy expert consulting firm Brulte Co. , belief TuSimple right track . The biggest competitive advantage TuSimple competitor technology purpose-built trucking . They trying port autonomy system built passenger vehicle dense urban environment trucking build virtual driver drive passenger vehicle class- truck . These different skill different system altogether , said . Removing human element long trucking route benefit . The company say truck react time faster human driver , see farther road , even night . In US every year , fatality involving truck , due human error , said Lu . The truck get tired , watch movie look phone . It get distracted .\n",
      "Label: 0\n",
      "\n",
      "\n"
     ]
    }
   ],
   "source": [
    "data = pd.read_csv(\"./data/CNN_processed.csv\")\n",
    "\n",
    "for row in data[:1].iterrows():\n",
    "    print(row[1][\"processed\"])\n",
    "    print(f\"Label: {row[1][\"label\"]}\")\n",
    "    print('\\n')"
   ]
  },
  {
   "cell_type": "code",
   "execution_count": 3,
   "id": "ccd40dce-2f2d-42cf-9eb9-2e6e944d05ba",
   "metadata": {},
   "outputs": [],
   "source": [
    "data.drop(data[data.label == 8].index, inplace=True)"
   ]
  },
  {
   "cell_type": "code",
   "execution_count": 4,
   "id": "731a238f-3eab-4abb-acd8-b90040a0b08b",
   "metadata": {},
   "outputs": [],
   "source": [
    "data.drop(data[data.label == 7].index, inplace=True)"
   ]
  },
  {
   "cell_type": "code",
   "execution_count": 5,
   "id": "6cb41040-bb73-43ca-9c5b-6101960bb74a",
   "metadata": {},
   "outputs": [],
   "source": [
    "data.drop(data[data.label == 6].index, inplace=True)"
   ]
  },
  {
   "cell_type": "code",
   "execution_count": 6,
   "id": "47d67510-1c64-465c-b2aa-eddb44715023",
   "metadata": {},
   "outputs": [
    {
     "data": {
      "text/plain": [
       "(37871, 2)"
      ]
     },
     "execution_count": 6,
     "metadata": {},
     "output_type": "execute_result"
    }
   ],
   "source": [
    "data.shape"
   ]
  },
  {
   "cell_type": "code",
   "execution_count": 7,
   "id": "8cbb9706-389e-406b-a6f4-2f6d80dd01a2",
   "metadata": {},
   "outputs": [
    {
     "data": {
      "text/plain": [
       "6"
      ]
     },
     "execution_count": 7,
     "metadata": {},
     "output_type": "execute_result"
    }
   ],
   "source": [
    "num_features = len(data[\"label\"].factorize()[1])\n",
    "# y_label = np.eye(len(data[\"label\"].factorize()[1]))[data[\"label\"]]\n",
    "# y_label.shape\n",
    "num_features"
   ]
  },
  {
   "cell_type": "code",
   "execution_count": 8,
   "id": "df2756a3-de64-4ee3-965a-f624dab61103",
   "metadata": {},
   "outputs": [
    {
     "data": {
      "text/plain": [
       "['CNN',\n",
       " 'Right',\n",
       " ',',\n",
       " 'shortage',\n",
       " 'truck',\n",
       " 'driver',\n",
       " 'US',\n",
       " 'worldwide',\n",
       " ',',\n",
       " 'exacerbated']"
      ]
     },
     "execution_count": 8,
     "metadata": {},
     "output_type": "execute_result"
    }
   ],
   "source": [
    "reviews = data.processed.values\n",
    "words = ' '.join(reviews)\n",
    "words = words.split()\n",
    "\n",
    "words[:10]"
   ]
  },
  {
   "cell_type": "code",
   "execution_count": 9,
   "id": "d380caa0-e271-4566-b697-a54eec389313",
   "metadata": {},
   "outputs": [],
   "source": [
    "counter = Counter(words)\n",
    "vocab = sorted(counter, key=counter.get, reverse=True)\n",
    "int2word = dict(enumerate(vocab, 1))\n",
    "int2word[0] = \"<PAD>\"\n",
    "word2int = {word: _id for _id, word in int2word.items()}"
   ]
  },
  {
   "cell_type": "code",
   "execution_count": 10,
   "id": "9d70e28f-630f-45ff-b6ee-eacee855cb28",
   "metadata": {},
   "outputs": [
    {
     "data": {
      "text/plain": [
       "'CNN Right , shortage truck driver US worldwide , exacerbated e-commerce boom brought pandemic . One solution problem autonomous truck , several company race first launch one . Among San Diego-based TuSimple.Founded , TuSimple completed million mile road test prototype truck across US , China Europe . Although simply commercially available truck retrofitted technology , TuSimple deal place two world largest truck manufacturer -- Navistar US Traton , Volkswagen trucking business , Europe -- design build fully autonomous model , hope launch . Photos : The Yara Birkeland builder call world first zero-emission , autonomous cargo ship . The ship scheduled make first journey two Norwegian town end year . Click see form transport set transform future.Hide Caption Photos : Pictured rendering , Oceanbird wind-powered transatlantic car carrier cut carbon emission , compared standard car carrier.Hide Caption Photos : It maritime ship going green . Cities around world adopting electric ferry . Norwegian startup Zeabuz hope self-driving electric ferry pictured rendering help revive urban waterways.Hide Caption Photos : In China , new Maglev high-speed train roll production line Qingdao , east China Shandong Province , July . It top speed km per hour -- currently fastest ground vehicle available globally . Hide Caption Photos : Reaching speed , kilometer mile per hour , Hyperloop could sustainable replacement short-haul flight . Dutch company Hardt shown rendering started work Hyperloop test facility Europe , anticipated open .Hide Caption Photos : Hyperloop like bullet train , without track rail . Floating pod propelled low-pressure steel tube using magnetic levitation . Virgin running test passenger XP- vehicle , pictured here.Hide Caption Photos : Low carbon travel switching sustainable fuel source -- also redesigning transport . A Flying-V plane designed Delft University Technology Netherlands Dutch airline KLM cut fuel consumption . Ultimately , researcher hope switch kerosene sustainable fuel source , like liquid hydrogen.Hide Caption Photos : Hydrogen aviation could provide sustainable solution short medium-haul flight . In September , Airbus unveiled plan three hydrogen-powered , zero-emission aircraft carry passenger . It hope launch first ZEROe aircraft .Hide Caption Photos : In December , Canadian airline Harbour Air flew world first all-electric , zero-emission commercial aircraft . The six-seater seaplane retrofitted magniX magni all-electric motor . Harbour Air -- carry half million passenger annually -- hope become world first all-electric airline . Hide Caption Photos : In case electric bike , future : one retailer reported sale e-bikes e-scooters increased year . E-bikes give user boost pedaling , allowing go le effort . E-bikes even available ride-share apps , like Uber.Hide Caption Photos : While sleeper train bus might way u get shut-eye overnight travel , rendering self-driving hotel suite Toronto-based designer Steve Lee Aprilli Design Studio might offer plush alternative future.Hide Caption Photos : In UAE , futuristic-looking pod undergoing testing -meter line Sharjah , border Dubai . Belarus-based uSky Transport say pod help city solve traffic problems.Hide Caption Photos : The Coradia iLint French rail transport company Alstom world first hydrogen-powered passenger train . It began testing Germany , September entered regular service Austria.Hide Caption No sleepTuSimple latest road test involved hauling fresh produce mile , Nogales , Arizona Oklahoma City . The pickup dropoff handled human driver , bulk route -- Tucson Dallas -- truck drove . Read More Today , system fully ready , safety driver safety engineer board time testing , drove full autonomy : driver touching wheel , said Cheng Lu , TuSimple president CEO . The journey completed hour versus usual human driver , mostly truck need sleep . In US , driver work hour day . We simply handoff first pair driver stop reached hour operation , said Lu . That , course , negates advantage autonomous system , idea TuSimple truck hit market , need anyone onboard . Picking watermelon still required human touch.Unlike self-driving car , still way commercially available , TuSimple truck required operate bustling city traffic , stretch highway thoroughly mapped via company software . We collect data road , create detailed , high definition map route . That add another layer safety vehicle , said Lu . As result , TuSimple truck able self-drive along pre-mapped trade corridor , Lu call virtual railroad , nowhere else . This swarm robot get smarter worksAccording company , US good travel nation trade corridor , even selective mapping allows capturing large portion business . TuSimple currently mapping route Arizona Texas , plan mapped route across nation . Its plan dependent state legislation , however , currently state allow testing autonomous truck public road . Happier driver ? The technology add , cost truck , making final price roughly , . According Lu , still cheaper paying human driver . If take , divide million mile , average lifespan truck , mean adding five cent per mile . But saving cost human driver , based average US wage , , per year -- cent . per mile . Today , direct labor cost cost operating truck , said . Read : A robotic Ironhand could protect factory worker injuriesThat mean driverless truck take away job , according Lu . By focusing middle mile , rather pickup delivery good , TuSimple belief create new freight capacity without creating new demand driver , time protecting existing job . A UPS driver dropping package day -- autonomy meant . We believe every driver able retire driver , even enter workforce today , said Lu . TuSimple autonomous fleet.Instead , TuSimple aim take route terminal distribution center , involve long stretch monotonous driving . Take Phoenix El Paso : six-hour drive . A person make round trip , hour . But truck go back forth day , mundane job driver want . That mean free human driver first last mile pickup delivery .They get work full day , efficient use time , get go home night family , said Lu.No distraction Although Lu say reliability software hardware still need increased , TuSimple planning first fully autonomous test , without human safety driver cabin , end year . The result test indicate whether company meet goal launch truck . Lu say , reserved US alone . Photos : The robot running warehouse Photos : The robot running warehousesRobots increasingly familiar presence warehouse . At south-east London warehouse run British online supermarket Ocado , , robot fulfill shopping order . When order sent warehouse , bot spring life head towards container require . Scroll see robot revolutionizing warehouses.Hide Caption Photos : The robot running warehousesIn response coronavirus pandemic , MIT collaborated Ava Robotics Greater Boston Food Bank design robot use UV light sanitize floor , -square foot warehouse minute . Hide Caption Photos : The robot running warehousesSeven-foot Model-T robot produced Japanese startup Telexistence stacking shelf two Tokyo largest convenience store franchise . Featuring camera , microphone sensor , Model-T us three finger stock item bottled drink , rice bowl . The robot controlled shop staff remotely.Hide Caption Photos : The robot running warehousesUS company Boston Dynamics become known advanced work robot . Handle made warehouse equipped on-board vision system . It lift box weighing pound . Hide Caption Photos : The robot running warehousesStretch latest robot Boston Dynamics work warehouse distribution center . Designed keep human worker harm way , Stretch tentacle-like grippers mean manipulate box . Hide Caption Photos : The robot running warehousesAlthough specifically designed warehouse , Boston Dynamics dog-like robot Spot lift object , pick fall , open walk door , even remind people practice social distancing . Hide Caption Photos : The robot running warehousesThis robot used plant seed check plant Nordic Harvest vertical farm based Taastrup , Denmark . The indoor farm one biggest Europe.Hide Caption Photos : The robot running warehousesRobots sort package warehouse run JD.com -- one China largest e-commerce firm , Wuhan , China , ahead annual Singles Day online shopping bonanza , .Hide Caption TuSimple prominent competitor , Google spinoff Waymo Uber-backed Aurora , working wider range self-driving vehicle , including passenger car . TuSimple working exclusively driverless truck , like US company Plus Embark . Grayson Brulte , autonomy expert consulting firm Brulte Co. , belief TuSimple right track . The biggest competitive advantage TuSimple competitor technology purpose-built trucking . They trying port autonomy system built passenger vehicle dense urban environment trucking build virtual driver drive passenger vehicle class- truck . These different skill different system altogether , said . Removing human element long trucking route benefit . The company say truck react time faster human driver , see farther road , even night . In US every year , fatality involving truck , due human error , said Lu . The truck get tired , watch movie look phone . It get distracted .'"
      ]
     },
     "execution_count": 10,
     "metadata": {},
     "output_type": "execute_result"
    }
   ],
   "source": [
    "reviews[0]"
   ]
  },
  {
   "cell_type": "code",
   "execution_count": 11,
   "id": "28a1a4c4-0acf-4b90-9a5c-e58c14b6d4c0",
   "metadata": {},
   "outputs": [
    {
     "name": "stderr",
     "output_type": "stream",
     "text": [
      "100%|█████████████████████████████████████████████████████████████████████████████████████████████████████████████████████████████████████████████████████| 37871/37871 [00:04<00:00, 7717.97it/s]"
     ]
    },
    {
     "name": "stdout",
     "output_type": "stream",
     "text": [
      "[11, 3320, 1, 3416, 1362]\n",
      "[11, 9107, 3254, 6425, 319]\n",
      "[11, 38, 1139, 1171, 6425]\n",
      "[4, 489, 9082, 369, 31]\n",
      "[98, 311, 11, 2401, 127]\n"
     ]
    },
    {
     "name": "stderr",
     "output_type": "stream",
     "text": [
      "\n"
     ]
    }
   ],
   "source": [
    "reviews_enc = [[word2int[word] for word in review.split()] for review in tqdm(reviews)]\n",
    "\n",
    "for i in range(5):\n",
    "    print(reviews_enc[i][:5])"
   ]
  },
  {
   "cell_type": "code",
   "execution_count": 18,
   "id": "abceec3b-4e03-4215-b644-866316f274fd",
   "metadata": {},
   "outputs": [
    {
     "data": {
      "text/plain": [
       "array([[   11,  3320,     1,  3416,  1362,   401,    47,  2634,     1,\n",
       "         8491],\n",
       "       [   11,  9107,  3254,  6425,   319,  2133,     1, 24937,   235,\n",
       "         7633],\n",
       "       [   11,    38,  1139,  1171,  6425,     1, 16868,  7615,  4993,\n",
       "           93],\n",
       "       [    4,   489,  9082,   369,    31,    42,  1454,   127,   358,\n",
       "         1109],\n",
       "       [   98,   311,    11,  2401,   127, 14855,  1519,  1854,   134,\n",
       "            2],\n",
       "       [   32,  1476,   300,    14,   838,    11,  2401,  2370,  5979,\n",
       "         4156],\n",
       "       [   98,   311,    11,  2401, 20840,    94,    31,   396,  1793,\n",
       "        11031],\n",
       "       [  109,   535,  6272,  2107,  1476,     2,    15,  2980,   968,\n",
       "        14096],\n",
       "       [   98,   311,    11,  2401, 23457,  3313,     3,  4328,  1449,\n",
       "            1],\n",
       "       [   98,   311,    11,  2401, 14935,   804,   417,  5424,   788,\n",
       "           60]])"
      ]
     },
     "execution_count": 18,
     "metadata": {},
     "output_type": "execute_result"
    }
   ],
   "source": [
    "def pad_features(reviews, pad_id, seq_length=128):\n",
    "    features = np.full((len(reviews), seq_length), pad_id, dtype=int)\n",
    "\n",
    "    for i, row in enumerate(reviews):\n",
    "        # if seq_lenght < len(row) then reviews will be trimmed\n",
    "        features[i, :len(row)] = np.array(row)[:seq_length]\n",
    "\n",
    "    return features\n",
    "\n",
    "\n",
    "seq_length = 256\n",
    "features = pad_features(reviews_enc, pad_id=word2int[\"<PAD>\"], seq_length=seq_length)\n",
    "\n",
    "assert len(features) == len(reviews_enc)\n",
    "assert len(features[0]) == seq_length\n",
    "\n",
    "features[:10, :10]"
   ]
  },
  {
   "cell_type": "code",
   "execution_count": 19,
   "id": "6f8bf551-a05c-496e-8765-2ca02b322499",
   "metadata": {},
   "outputs": [
    {
     "data": {
      "text/plain": [
       "array([0, 0, 0, ..., 4, 0, 0], dtype=int64)"
      ]
     },
     "execution_count": 19,
     "metadata": {},
     "output_type": "execute_result"
    }
   ],
   "source": [
    "labels = data.label.to_numpy()\n",
    "labels"
   ]
  },
  {
   "cell_type": "code",
   "execution_count": 21,
   "id": "8cfe9b2c-c9ab-4ce0-93f3-22ce25ee4292",
   "metadata": {},
   "outputs": [
    {
     "name": "stdout",
     "output_type": "stream",
     "text": [
      "Feature Shapes:\n",
      "===============\n",
      "Train set: (26509, 256)\n",
      "Validation set: (5681, 256)\n",
      "Test set: (5681, 256)\n"
     ]
    }
   ],
   "source": [
    "train_size = .7\n",
    "val_size = .5\n",
    "\n",
    "split_id = int(len(features) * train_size)\n",
    "train_x, remain_x = features[:split_id], features[split_id:]\n",
    "train_y, remain_y = labels[:split_id], labels[split_id:]\n",
    "\n",
    "split_val_id = int(len(remain_x) * val_size)\n",
    "val_x, test_x = remain_x[:split_val_id], remain_x[split_val_id:]\n",
    "val_y, test_y = remain_y[:split_val_id], remain_y[split_val_id:]\n",
    "\n",
    "print(\"Feature Shapes:\")\n",
    "print('=' * 15)\n",
    "print(f\"Train set: {train_x.shape}\")\n",
    "print(f\"Validation set: {val_x.shape}\")\n",
    "print(f\"Test set: {test_x.shape}\")"
   ]
  },
  {
   "cell_type": "code",
   "execution_count": 22,
   "id": "646e8365-71a6-4f26-b9a8-65f523a7a5a8",
   "metadata": {},
   "outputs": [
    {
     "data": {
      "text/plain": [
       "(26509, 6)"
      ]
     },
     "execution_count": 22,
     "metadata": {},
     "output_type": "execute_result"
    }
   ],
   "source": [
    "train_y_label = np.eye(num_features)[train_y]\n",
    "train_y_label.shape"
   ]
  },
  {
   "cell_type": "code",
   "execution_count": 25,
   "id": "e8272ee5-8659-44a8-aeef-fac80780ccb5",
   "metadata": {},
   "outputs": [],
   "source": [
    "batch_size = 128\n",
    "\n",
    "trainset = TensorDataset(torch.from_numpy(train_x), torch.from_numpy(train_y_label))\n",
    "validset = TensorDataset(torch.from_numpy(val_x), torch.from_numpy(val_y))\n",
    "testset = TensorDataset(torch.from_numpy(test_x), torch.from_numpy(test_y))\n",
    "\n",
    "trainloader = DataLoader(trainset, shuffle=True, batch_size=batch_size)\n",
    "validloader = DataLoader(validset, shuffle=True, batch_size=batch_size)\n",
    "testloader = DataLoader(testset, shuffle=True, batch_size=batch_size)"
   ]
  },
  {
   "cell_type": "code",
   "execution_count": 26,
   "id": "0734b61f-4d20-499c-9ae7-bcb48a165d06",
   "metadata": {},
   "outputs": [
    {
     "name": "stdout",
     "output_type": "stream",
     "text": [
      "Sample batch size:  torch.Size([128, 256])\n",
      "Sample batch input: \n",
      " tensor([[   152, 475526,  29077,  ...,   4186,  13481, 475536],\n",
      "        [    11,     32,   2179,  ...,    734,    100,    457],\n",
      "        [ 14737,  17185,      1,  ...,     55,    297,     57],\n",
      "        ...,\n",
      "        [    11,   7124,    675,  ...,  12468, 244385,    427],\n",
      "        [    11,   2540,     85,  ...,   1556,      1,    981],\n",
      "        [   586,     11,    301,  ...,   4687,     78,    297]],\n",
      "       dtype=torch.int32)\n",
      "\n",
      "Sample label size:  torch.Size([128, 6])\n",
      "Sample label input: \n",
      " tensor([[0., 0., 0., 0., 1., 0.],\n",
      "        [1., 0., 0., 0., 0., 0.],\n",
      "        [1., 0., 0., 0., 0., 0.],\n",
      "        [1., 0., 0., 0., 0., 0.],\n",
      "        [1., 0., 0., 0., 0., 0.],\n",
      "        [0., 0., 0., 0., 1., 0.],\n",
      "        [1., 0., 0., 0., 0., 0.],\n",
      "        [0., 0., 0., 0., 0., 1.],\n",
      "        [0., 0., 0., 0., 1., 0.],\n",
      "        [0., 0., 0., 0., 0., 1.],\n",
      "        [1., 0., 0., 0., 0., 0.],\n",
      "        [1., 0., 0., 0., 0., 0.],\n",
      "        [0., 0., 0., 0., 0., 1.],\n",
      "        [1., 0., 0., 0., 0., 0.],\n",
      "        [1., 0., 0., 0., 0., 0.],\n",
      "        [0., 0., 0., 0., 1., 0.],\n",
      "        [1., 0., 0., 0., 0., 0.],\n",
      "        [0., 0., 0., 0., 1., 0.],\n",
      "        [1., 0., 0., 0., 0., 0.],\n",
      "        [0., 0., 0., 0., 1., 0.],\n",
      "        [1., 0., 0., 0., 0., 0.],\n",
      "        [0., 1., 0., 0., 0., 0.],\n",
      "        [1., 0., 0., 0., 0., 0.],\n",
      "        [1., 0., 0., 0., 0., 0.],\n",
      "        [0., 0., 0., 0., 1., 0.],\n",
      "        [0., 0., 0., 0., 1., 0.],\n",
      "        [0., 0., 0., 0., 1., 0.],\n",
      "        [1., 0., 0., 0., 0., 0.],\n",
      "        [0., 0., 0., 0., 1., 0.],\n",
      "        [0., 0., 0., 0., 0., 1.],\n",
      "        [0., 0., 1., 0., 0., 0.],\n",
      "        [0., 0., 1., 0., 0., 0.],\n",
      "        [1., 0., 0., 0., 0., 0.],\n",
      "        [0., 0., 0., 0., 1., 0.],\n",
      "        [0., 0., 0., 0., 1., 0.],\n",
      "        [1., 0., 0., 0., 0., 0.],\n",
      "        [1., 0., 0., 0., 0., 0.],\n",
      "        [1., 0., 0., 0., 0., 0.],\n",
      "        [0., 1., 0., 0., 0., 0.],\n",
      "        [0., 0., 0., 0., 0., 1.],\n",
      "        [1., 0., 0., 0., 0., 0.],\n",
      "        [0., 0., 0., 0., 1., 0.],\n",
      "        [0., 0., 0., 0., 1., 0.],\n",
      "        [1., 0., 0., 0., 0., 0.],\n",
      "        [1., 0., 0., 0., 0., 0.],\n",
      "        [1., 0., 0., 0., 0., 0.],\n",
      "        [0., 0., 0., 0., 0., 1.],\n",
      "        [0., 0., 0., 0., 0., 1.],\n",
      "        [1., 0., 0., 0., 0., 0.],\n",
      "        [0., 0., 0., 0., 1., 0.],\n",
      "        [0., 0., 0., 0., 1., 0.],\n",
      "        [0., 0., 0., 0., 1., 0.],\n",
      "        [0., 0., 0., 0., 1., 0.],\n",
      "        [0., 0., 1., 0., 0., 0.],\n",
      "        [1., 0., 0., 0., 0., 0.],\n",
      "        [1., 0., 0., 0., 0., 0.],\n",
      "        [0., 0., 0., 0., 0., 1.],\n",
      "        [0., 0., 0., 0., 1., 0.],\n",
      "        [0., 0., 0., 0., 1., 0.],\n",
      "        [0., 0., 0., 0., 1., 0.],\n",
      "        [0., 0., 0., 0., 1., 0.],\n",
      "        [1., 0., 0., 0., 0., 0.],\n",
      "        [1., 0., 0., 0., 0., 0.],\n",
      "        [0., 0., 0., 0., 1., 0.],\n",
      "        [0., 0., 0., 0., 1., 0.],\n",
      "        [0., 0., 0., 0., 0., 1.],\n",
      "        [1., 0., 0., 0., 0., 0.],\n",
      "        [0., 0., 0., 0., 1., 0.],\n",
      "        [0., 0., 0., 0., 1., 0.],\n",
      "        [0., 0., 0., 0., 1., 0.],\n",
      "        [0., 0., 0., 0., 1., 0.],\n",
      "        [1., 0., 0., 0., 0., 0.],\n",
      "        [0., 0., 0., 0., 0., 1.],\n",
      "        [0., 1., 0., 0., 0., 0.],\n",
      "        [1., 0., 0., 0., 0., 0.],\n",
      "        [0., 0., 0., 0., 1., 0.],\n",
      "        [0., 0., 0., 0., 1., 0.],\n",
      "        [1., 0., 0., 0., 0., 0.],\n",
      "        [0., 0., 0., 0., 1., 0.],\n",
      "        [1., 0., 0., 0., 0., 0.],\n",
      "        [0., 0., 1., 0., 0., 0.],\n",
      "        [1., 0., 0., 0., 0., 0.],\n",
      "        [1., 0., 0., 0., 0., 0.],\n",
      "        [1., 0., 0., 0., 0., 0.],\n",
      "        [0., 0., 0., 0., 1., 0.],\n",
      "        [0., 0., 0., 0., 1., 0.],\n",
      "        [0., 0., 0., 0., 0., 1.],\n",
      "        [0., 0., 0., 0., 0., 1.],\n",
      "        [1., 0., 0., 0., 0., 0.],\n",
      "        [0., 0., 0., 0., 1., 0.],\n",
      "        [1., 0., 0., 0., 0., 0.],\n",
      "        [0., 0., 0., 0., 1., 0.],\n",
      "        [0., 0., 0., 0., 1., 0.],\n",
      "        [0., 0., 0., 0., 0., 1.],\n",
      "        [1., 0., 0., 0., 0., 0.],\n",
      "        [1., 0., 0., 0., 0., 0.],\n",
      "        [1., 0., 0., 0., 0., 0.],\n",
      "        [1., 0., 0., 0., 0., 0.],\n",
      "        [0., 0., 0., 0., 0., 1.],\n",
      "        [1., 0., 0., 0., 0., 0.],\n",
      "        [1., 0., 0., 0., 0., 0.],\n",
      "        [1., 0., 0., 0., 0., 0.],\n",
      "        [0., 0., 0., 0., 1., 0.],\n",
      "        [0., 0., 0., 0., 1., 0.],\n",
      "        [0., 0., 0., 0., 1., 0.],\n",
      "        [1., 0., 0., 0., 0., 0.],\n",
      "        [1., 0., 0., 0., 0., 0.],\n",
      "        [1., 0., 0., 0., 0., 0.],\n",
      "        [0., 0., 0., 0., 1., 0.],\n",
      "        [0., 1., 0., 0., 0., 0.],\n",
      "        [1., 0., 0., 0., 0., 0.],\n",
      "        [1., 0., 0., 0., 0., 0.],\n",
      "        [0., 0., 0., 0., 1., 0.],\n",
      "        [1., 0., 0., 0., 0., 0.],\n",
      "        [1., 0., 0., 0., 0., 0.],\n",
      "        [0., 0., 0., 0., 1., 0.],\n",
      "        [0., 0., 0., 1., 0., 0.],\n",
      "        [0., 0., 0., 0., 1., 0.],\n",
      "        [0., 0., 0., 0., 1., 0.],\n",
      "        [1., 0., 0., 0., 0., 0.],\n",
      "        [1., 0., 0., 0., 0., 0.],\n",
      "        [1., 0., 0., 0., 0., 0.],\n",
      "        [1., 0., 0., 0., 0., 0.],\n",
      "        [0., 0., 0., 0., 0., 1.],\n",
      "        [0., 0., 0., 0., 1., 0.],\n",
      "        [0., 0., 0., 0., 0., 1.],\n",
      "        [1., 0., 0., 0., 0., 0.],\n",
      "        [0., 0., 0., 0., 0., 1.]], dtype=torch.float64)\n"
     ]
    }
   ],
   "source": [
    "dataiter = iter(trainloader)\n",
    "x, y = next(dataiter)\n",
    "\n",
    "print(\"Sample batch size: \", x.size())\n",
    "print(\"Sample batch input: \\n\", x)\n",
    "print()\n",
    "print(\"Sample label size: \", y.size())\n",
    "print(\"Sample label input: \\n\", y)"
   ]
  },
  {
   "cell_type": "markdown",
   "id": "f6aea6fb-3911-46d1-abf8-e963a87d97a0",
   "metadata": {},
   "source": [
    "# Моделирование\n",
    "\n",
    "что будем делать:\n",
    "1. Создадим архитектуру нейронной сети\n",
    "2. Определим гипер параметры модели\n",
    "3. Настроим конфигурации обучения\n",
    "4. Напишем цикл обучения-проверки\n",
    "5. Нарисуем график изменения Loss\n",
    "6. Вывод на тестовом наборе\n",
    "7. Метрики оценки"
   ]
  },
  {
   "cell_type": "code",
   "execution_count": 39,
   "id": "3272451f-c88b-4f98-8c20-1c2df3cb5885",
   "metadata": {},
   "outputs": [],
   "source": [
    "class SentimentModel(nn.Module):\n",
    "    def __init__(self, vocab_size, output_size, hidden_size=128, embedding_size=400, n_layers=2, dropout=0.2):\n",
    "\n",
    "        super(SentimentModel, self).__init__()\n",
    "\n",
    "        self.embedding = nn.Embedding(vocab_size, embedding_size)\n",
    "        self.lstm = nn.LSTM(embedding_size, hidden_size, n_layers, dropout=dropout, batch_first=True)\n",
    "\n",
    "        self.batch_norm = nn.BatchNorm1d(hidden_size, momentum=0.1)\n",
    "        self.dropout = nn.Dropout(0.2)\n",
    "        \n",
    "        self.fc = nn.Linear(hidden_size, output_size)\n",
    "        self.softmax = nn.Softmax(1)\n",
    "\n",
    "    def forward(self, x):\n",
    "        # convert feature to long\n",
    "        x = x.long()\n",
    "\n",
    "        # map input to vector\n",
    "        x = self.embedding(x)\n",
    "\n",
    "        # pass forward to lstm\n",
    "        o, _ = self.lstm(x)\n",
    "\n",
    "        # get last sequence output\n",
    "        o = o[:, -1, :]\n",
    "\n",
    "        # apply dropout and fully connected layer\n",
    "        o = self.batch_norm(o)\n",
    "        o = self.dropout(o)\n",
    "        o = self.fc(o)\n",
    "\n",
    "        # sigoid\n",
    "        o = self.softmax(o)\n",
    "\n",
    "        return o"
   ]
  },
  {
   "cell_type": "code",
   "execution_count": 40,
   "id": "7d527ee4-f5e7-495c-a878-42ef80be6fc3",
   "metadata": {},
   "outputs": [
    {
     "name": "stdout",
     "output_type": "stream",
     "text": [
      "cuda\n"
     ]
    }
   ],
   "source": [
    "device = torch.device(\"cuda\" if torch.cuda.is_available() else \"cpu\")\n",
    "print(device)"
   ]
  },
  {
   "cell_type": "code",
   "execution_count": 41,
   "id": "d276691e-df6d-4c6f-97c4-1073051015f4",
   "metadata": {},
   "outputs": [
    {
     "name": "stdout",
     "output_type": "stream",
     "text": [
      "SentimentModel(\n",
      "  (embedding): Embedding(580236, 256)\n",
      "  (lstm): LSTM(256, 376, num_layers=2, batch_first=True, dropout=0.2)\n",
      "  (batch_norm): BatchNorm1d(376, eps=1e-05, momentum=0.1, affine=True, track_running_stats=True)\n",
      "  (dropout): Dropout(p=0.2, inplace=False)\n",
      "  (fc): Linear(in_features=376, out_features=6, bias=True)\n",
      "  (softmax): Softmax(dim=1)\n",
      ")\n"
     ]
    }
   ],
   "source": [
    "vocab_size = len(word2int)\n",
    "output_size = train_y_label.shape[1]\n",
    "embedding_size = 256\n",
    "hidden_size = 376\n",
    "n_layers = 2\n",
    "dropout = 0.2\n",
    "\n",
    "model = SentimentModel(\n",
    "    vocab_size,\n",
    "    output_size,\n",
    "    hidden_size,\n",
    "    embedding_size,\n",
    "    n_layers,\n",
    "    dropout\n",
    ")\n",
    "print(model)"
   ]
  },
  {
   "cell_type": "code",
   "execution_count": 70,
   "id": "1b1babc6-eb17-4af7-8dac-5216bbab98df",
   "metadata": {},
   "outputs": [],
   "source": [
    "lr = 0.001\n",
    "criterion = nn.CrossEntropyLoss()\n",
    "optim = Adam(model.parameters(), lr=lr) #, weight_decay=1.e-4)\n",
    "grad_clip = 5\n",
    "epochs = 8\n",
    "print_every = 1\n",
    "history = {\n",
    "    \"train_loss\": [],\n",
    "    \"train_acc\": [],\n",
    "    \"val_loss\": [],\n",
    "    \"val_acc\": [],\n",
    "    \"epochs\": epochs\n",
    "}\n",
    "es_limit = 5"
   ]
  },
  {
   "cell_type": "code",
   "execution_count": 71,
   "id": "a705e73d-b419-4353-8282-294f53c29286",
   "metadata": {},
   "outputs": [
    {
     "name": "stderr",
     "output_type": "stream",
     "text": [
      "Training:  12%|██████████████▍                                                                                                    | 1/8 [00:31<03:42, 31.77s/it, Val Loss: 1.097 | Val Acc: 0.946]"
     ]
    },
    {
     "name": "stdout",
     "output_type": "stream",
     "text": [
      "Epoch 1/8 | Train Loss: 1.088 Train Acc: 0.985 | Val Loss: 1.097 Val Acc: 0.946\n"
     ]
    },
    {
     "name": "stderr",
     "output_type": "stream",
     "text": [
      "Training:  38%|███████████████████████████████████████████▏                                                                       | 3/8 [01:07<01:53, 22.78s/it, Val Loss: 1.087 | Val Acc: 0.956]"
     ]
    },
    {
     "name": "stdout",
     "output_type": "stream",
     "text": [
      "Epoch 2/8 | Train Loss: 1.084 Train Acc: 0.986 | Val Loss: 1.087 Val Acc: 0.956\n"
     ]
    },
    {
     "name": "stderr",
     "output_type": "stream",
     "text": [
      "Training:  62%|███████████████████████████████████████████████████████████████████████████████▍                                               | 5/8 [01:36<01:15, 25.10s/it, Training batch 2/208]"
     ]
    },
    {
     "name": "stdout",
     "output_type": "stream",
     "text": [
      "Epoch 3/8 | Train Loss: 1.081 Train Acc: 0.987 | Val Loss: 1.106 Val Acc: 0.937\n",
      "[WARNING] Validation loss did not improved (1.087 --> 1.106)\n"
     ]
    },
    {
     "name": "stderr",
     "output_type": "stream",
     "text": [
      "Training:  75%|███████████████████████████████████████████████████████████████████████████████████████████████▎                               | 6/8 [02:00<00:36, 18.14s/it, Training batch 2/208]"
     ]
    },
    {
     "name": "stdout",
     "output_type": "stream",
     "text": [
      "Epoch 4/8 | Train Loss: 1.080 Train Acc: 0.988 | Val Loss: 1.106 Val Acc: 0.936\n",
      "[WARNING] Validation loss did not improved (1.087 --> 1.106)\n"
     ]
    },
    {
     "name": "stderr",
     "output_type": "stream",
     "text": [
      "Training: 100%|███████████████████████████████████████████████████████████████████████████████████████████████████████████████████████████████| 8/8 [02:24<00:00, 19.77s/it, Training batch 2/208]"
     ]
    },
    {
     "name": "stdout",
     "output_type": "stream",
     "text": [
      "Epoch 5/8 | Train Loss: 1.077 Train Acc: 0.989 | Val Loss: 1.092 Val Acc: 0.952\n",
      "[WARNING] Validation loss did not improved (1.087 --> 1.092)\n"
     ]
    },
    {
     "name": "stderr",
     "output_type": "stream",
     "text": [
      "Training: 9it [02:48, 16.34s/it, Training batch 2/208]                                                                                                                                            "
     ]
    },
    {
     "name": "stdout",
     "output_type": "stream",
     "text": [
      "Epoch 6/8 | Train Loss: 1.075 Train Acc: 0.990 | Val Loss: 1.120 Val Acc: 0.923\n",
      "[WARNING] Validation loss did not improved (1.087 --> 1.120)\n"
     ]
    },
    {
     "name": "stderr",
     "output_type": "stream",
     "text": [
      "Training:  75%|██████████████████████████████████████████████████████████████████████████████████████▎                            | 6/8 [03:12<01:04, 32.02s/it, Val Loss: 1.094 | Val Acc: 0.949]"
     ]
    },
    {
     "name": "stdout",
     "output_type": "stream",
     "text": [
      "Epoch 7/8 | Train Loss: 1.073 Train Acc: 0.990 | Val Loss: 1.094 Val Acc: 0.949\n",
      "[WARNING] Validation loss did not improved (1.087 --> 1.094)\n",
      "Early stopped at Epoch 7\n"
     ]
    },
    {
     "name": "stderr",
     "output_type": "stream",
     "text": [
      "\n"
     ]
    }
   ],
   "source": [
    "model = model.to(device)\n",
    "\n",
    "epochloop = tqdm(range(epochs), position=0, desc=\"Training\", leave=True)\n",
    "\n",
    "# early stop trigger\n",
    "es_trigger = 0\n",
    "val_loss_min = torch.inf\n",
    "\n",
    "for e in epochloop:\n",
    "    # Training\n",
    "    model.train()\n",
    "\n",
    "    train_loss = 0\n",
    "    train_acc = 0\n",
    "\n",
    "    for id_, (feature, target) in enumerate(trainloader):\n",
    "        epochloop.set_postfix_str(f\"Training batch {id_}/{len(trainloader)}\")\n",
    "\n",
    "        feature, target = feature.to(device), target.to(device)\n",
    "\n",
    "        optim.zero_grad()\n",
    "        out = model(feature)\n",
    "        \n",
    "        predicted = torch.zeros_like(target, dtype=torch.int8, device=device)\n",
    "        for i, to_label in enumerate(out):\n",
    "            max_index = torch.argmax(to_label)\n",
    "            # Set the element at the maximum index to 1\n",
    "            predicted[i, max_index] = 1\n",
    "            \n",
    "        equals = predicted == target\n",
    "        acc = torch.mean(equals.type(torch.FloatTensor))\n",
    "        train_acc += acc.item()\n",
    "\n",
    "        loss = criterion(out.squeeze(), target.float())\n",
    "        train_loss += loss.item()\n",
    "        loss.backward()\n",
    "\n",
    "        nn.utils.clip_grad_norm_(model.parameters(), grad_clip)\n",
    "\n",
    "        optim.step()\n",
    "\n",
    "        del feature, target, predicted\n",
    "\n",
    "    history[\"train_loss\"].append(train_loss / len(trainloader))\n",
    "    history[\"train_acc\"].append(train_acc / len(trainloader))\n",
    "\n",
    "    # Validation\n",
    "    model.eval()\n",
    "\n",
    "    val_loss = 0\n",
    "    val_acc = 0\n",
    "\n",
    "    with torch.no_grad():\n",
    "        for id_, (feature, target) in enumerate(validloader):\n",
    "            epochloop.set_postfix_str(f\"Validation batch {id_}/{len(validloader)}\")\n",
    "\n",
    "            feature, target = feature.to(device), target.to(device)\n",
    "            out = model(feature)\n",
    "\n",
    "            predicted = torch.zeros_like(target, device=device)\n",
    "            for i, to_label in enumerate(out):\n",
    "                predicted[i] = torch.argmax(to_label)\n",
    "            \n",
    "            equals = predicted == target\n",
    "            acc = torch.mean(equals.type(torch.FloatTensor))\n",
    "            val_acc += acc.item()\n",
    "\n",
    "            loss = criterion(out.squeeze(), target.long())\n",
    "            val_loss += loss.item()\n",
    "\n",
    "            del feature, target, predicted\n",
    "\n",
    "\n",
    "    history[\"val_loss\"].append(val_loss / len(validloader))\n",
    "    history[\"val_acc\"].append(val_acc / len(validloader))\n",
    "\n",
    "\n",
    "    # Возвращаем модель в режим обучения\n",
    "    model.train()\n",
    "\n",
    "    info_str = f\"Val Loss: {val_loss / len(validloader):.3f} \"\n",
    "    info_str += f\"| Val Acc: {val_acc / len(validloader):.3f}\"\n",
    "    epochloop.set_postfix_str(info_str)\n",
    "\n",
    "    if (e + 1) % print_every == 0:\n",
    "        info_str = f\"Epoch {e+1}/{epochs} | Train Loss: {train_loss / len(trainloader):.3f} \"\n",
    "        info_str += f\"Train Acc: {train_acc / len(trainloader):.3f} \"\n",
    "        info_str += f\"| Val Loss: {val_loss / len(validloader):.3f} \"\n",
    "        info_str += f\"Val Acc: {val_acc / len(validloader):.3f}\"\n",
    "\n",
    "        epochloop.write(info_str)\n",
    "        epochloop.update()\n",
    "\n",
    "    if val_loss / len(validloader) <= val_loss_min:\n",
    "        torch.save(model.state_dict(), \"./sentiment_lstm.pt\")\n",
    "        val_loss_min = val_loss / len(validloader)\n",
    "        es_trigger = 0\n",
    "    else:\n",
    "        info_str = \"[WARNING] Validation loss did not improved (\"\n",
    "        info_str += f\"{val_loss_min:.3f} --> {val_loss / len(validloader):.3f})\"\n",
    "\n",
    "        epochloop.write(info_str)\n",
    "        es_trigger += 1\n",
    "\n",
    "    if es_trigger >= es_limit:\n",
    "        epochloop.write(f\"Early stopped at Epoch {e+1}\")\n",
    "        history[\"epochs\"] = e + 1\n",
    "        break"
   ]
  },
  {
   "cell_type": "code",
   "execution_count": 72,
   "id": "c4151065-c4c0-44ec-bb40-8700a46ccb38",
   "metadata": {},
   "outputs": [
    {
     "data": {
      "image/png": "[encoded data removed]",
      "text/plain": [
       "<Figure size 640x480 with 1 Axes>"
      ]
     },
     "metadata": {},
     "output_type": "display_data"
    }
   ],
   "source": [
    "plt.figure.Figure(figsize=(6, 6))\n",
    "plt.pyplot.plot(range(history[\"epochs\"]), history[\"train_acc\"], label=\"Train Acc\")\n",
    "plt.pyplot.plot(range(history[\"epochs\"]), history[\"val_acc\"], label=\"Val Acc\")\n",
    "plt.pyplot.legend()\n",
    "plt.pyplot.show()"
   ]
  },
  {
   "cell_type": "code",
   "execution_count": 73,
   "id": "e0bae685-31d3-4c0f-9037-9464bbab02a3",
   "metadata": {},
   "outputs": [
    {
     "data": {
      "image/png": "[encoded data removed]",
      "text/plain": [
       "<Figure size 640x480 with 1 Axes>"
      ]
     },
     "metadata": {},
     "output_type": "display_data"
    }
   ],
   "source": [
    "plt.figure.Figure(figsize=(6, 6))\n",
    "plt.pyplot.plot(range(history[\"epochs\"]), history[\"train_loss\"], label=\"Train Loss\")\n",
    "plt.pyplot.plot(range(history[\"epochs\"]), history[\"val_loss\"], label=\"Val Loss\")\n",
    "plt.pyplot.legend()\n",
    "plt.pyplot.show()"
   ]
  },
  {
   "cell_type": "code",
   "execution_count": 75,
   "id": "951ca99d-034b-4e9c-82cb-4c24e5930f9c",
   "metadata": {},
   "outputs": [
    {
     "name": "stderr",
     "output_type": "stream",
     "text": [
      "Inference: 100%|██████████████████████████████████████████████████████████████████████████████████████████████████████████████████████████████████████████████████| 45/45 [00:01<00:00, 39.42it/s]"
     ]
    },
    {
     "name": "stdout",
     "output_type": "stream",
     "text": [
      "Accuracy 0.9369, Loss: 1.1063\n"
     ]
    },
    {
     "name": "stderr",
     "output_type": "stream",
     "text": [
      "\n"
     ]
    }
   ],
   "source": [
    "model.eval()\n",
    "\n",
    "# metrics\n",
    "test_loss = 0\n",
    "test_acc = 0\n",
    "\n",
    "all_target = []\n",
    "all_predicted = []\n",
    "\n",
    "testloop = tqdm(testloader, leave=True, desc=\"Inference\")\n",
    "with torch.no_grad():\n",
    "    for feature, target in testloop:\n",
    "        feature, target = feature.to(device), target.to(device)\n",
    "\n",
    "        out = model(feature)\n",
    "\n",
    "        predicted = torch.zeros_like(target, device=device)\n",
    "        for i, to_label in enumerate(out):\n",
    "            predicted[i] = torch.argmax(to_label)\n",
    "        \n",
    "        equals = predicted == target\n",
    "        acc = torch.mean(equals.type(torch.FloatTensor))\n",
    "        test_acc += acc.item()\n",
    "\n",
    "        loss = criterion(out.squeeze(), target.long())\n",
    "        test_loss += loss.item()\n",
    "\n",
    "        all_target.extend(target.cpu().numpy())\n",
    "        all_predicted.extend(predicted.cpu().numpy())\n",
    "\n",
    "\n",
    "print(f\"Accuracy {test_acc / len(testloader):.4f}, Loss: {test_loss / len(testloader):.4f}\")"
   ]
  },
  {
   "cell_type": "markdown",
   "id": "42ed041d-b879-4dfc-9c28-621357f9359e",
   "metadata": {},
   "source": [
    "# Оценка качества"
   ]
  },
  {
   "cell_type": "code",
   "execution_count": 78,
   "id": "8ac7003b-4ca0-4bf1-bd5d-b2811b160c0f",
   "metadata": {},
   "outputs": [
    {
     "name": "stdout",
     "output_type": "stream",
     "text": [
      "              precision    recall  f1-score   support\n",
      "\n",
      "           0       0.97      0.95      0.96      2368\n",
      "           1       0.00      0.00      0.00        35\n",
      "           2       0.00      0.00      0.00        88\n",
      "           3       0.00      0.00      0.00        48\n",
      "           4       0.92      1.00      0.95      3095\n",
      "           5       0.00      0.00      0.00        47\n",
      "\n",
      "    accuracy                           0.94      5681\n",
      "   macro avg       0.31      0.32      0.32      5681\n",
      "weighted avg       0.90      0.94      0.92      5681\n",
      "\n"
     ]
    },
    {
     "name": "stderr",
     "output_type": "stream",
     "text": [
      "D:\\development\\python\\tasks_neiro_basics_arthur\\.venv\\Lib\\site-packages\\sklearn\\metrics\\_classification.py:1531: UndefinedMetricWarning: Precision is ill-defined and being set to 0.0 in labels with no predicted samples. Use `zero_division` parameter to control this behavior.\n",
      "  _warn_prf(average, modifier, f\"{metric.capitalize()} is\", len(result))\n",
      "D:\\development\\python\\tasks_neiro_basics_arthur\\.venv\\Lib\\site-packages\\sklearn\\metrics\\_classification.py:1531: UndefinedMetricWarning: Precision is ill-defined and being set to 0.0 in labels with no predicted samples. Use `zero_division` parameter to control this behavior.\n",
      "  _warn_prf(average, modifier, f\"{metric.capitalize()} is\", len(result))\n",
      "D:\\development\\python\\tasks_neiro_basics_arthur\\.venv\\Lib\\site-packages\\sklearn\\metrics\\_classification.py:1531: UndefinedMetricWarning: Precision is ill-defined and being set to 0.0 in labels with no predicted samples. Use `zero_division` parameter to control this behavior.\n",
      "  _warn_prf(average, modifier, f\"{metric.capitalize()} is\", len(result))\n"
     ]
    }
   ],
   "source": [
    "print(classification_report(all_predicted, all_target))"
   ]
  },
  {
   "cell_type": "code",
   "execution_count": 77,
   "id": "e288e33d-b5b6-48a8-aa29-243b670c6b20",
   "metadata": {},
   "outputs": [
    {
     "data": {
      "image/png": "[encoded data removed]",
      "text/plain": [
       "<Figure size 640x480 with 2 Axes>"
      ]
     },
     "metadata": {},
     "output_type": "display_data"
    }
   ],
   "source": [
    "cm = confusion_matrix(all_predicted, all_target)\n",
    "plt.figure.Figure(figsize=(5, 5))\n",
    "sns.heatmap(cm, annot=True, fmt=\"g\")\n",
    "plt.pyplot.title(\"Confusion Matrix\")\n",
    "plt.pyplot.show()"
   ]
  },
  {
   "cell_type": "code",
   "execution_count": null,
   "id": "ff847a2f-80cb-4811-af25-a84f0afb1496",
   "metadata": {},
   "outputs": [],
   "source": []
  }
 ],
 "metadata": {
  "kernelspec": {
   "display_name": "Python 3 (ipykernel)",
   "language": "python",
   "name": "python3"
  },
  "language_info": {
   "codemirror_mode": {
    "name": "ipython",
    "version": 3
   },
   "file_extension": ".py",
   "mimetype": "text/x-python",
   "name": "python",
   "nbconvert_exporter": "python",
   "pygments_lexer": "ipython3",
   "version": "3.12.0"
  }
 },
 "nbformat": 4,
 "nbformat_minor": 5
}
